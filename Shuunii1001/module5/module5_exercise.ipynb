{
 "cells": [
  {
   "cell_type": "code",
   "execution_count": 67,
   "id": "6314701b-8e9a-4984-be12-6b67ed11eb5f",
   "metadata": {},
   "outputs": [],
   "source": [
    "import pandas as pd\n",
    "import matplotlib.pyplot as plt\n",
    "from sklearn.metrics import mean_squared_error\n",
    "from sklearn.linear_model import LinearRegression\n",
    "from sklearn.model_selection import TimeSeriesSplit\n",
    "import numpy as np\n",
    "import seaborn as sns\n",
    "from sklearn.decomposition import PCA"
   ]
  },
  {
   "cell_type": "markdown",
   "id": "7b02c5c8-5383-4f41-8eec-baa16e5b3300",
   "metadata": {},
   "source": [
    "### Data Collection"
   ]
  },
  {
   "cell_type": "code",
   "execution_count": 68,
   "id": "850f0188-75e0-4591-bfb2-430be0f5f089",
   "metadata": {},
   "outputs": [
    {
     "name": "stdout",
     "output_type": "stream",
     "text": [
      "Downloaded module5_exercise_train.csv from https://www.raphaelcousin.com/modules/module5/exercise/module5_exercise_train.csv\n",
      "Downloaded module5_exercise_test.csv from https://www.raphaelcousin.com/modules/module5/exercise/module5_exercise_test.csv\n"
     ]
    }
   ],
   "source": [
    "import requests\n",
    "\n",
    "# URLs of the files\n",
    "train_data_url = 'https://www.raphaelcousin.com/modules/module5/exercise/module5_exercise_train.csv'\n",
    "test_data_url = 'https://www.raphaelcousin.com/modules/module5/exercise/module5_exercise_test.csv'\n",
    "\n",
    "# Function to download a file\n",
    "def download_file(url, file_name):\n",
    "    response = requests.get(url)\n",
    "    response.raise_for_status()  # Ensure we notice bad responses\n",
    "    with open(file_name, 'wb') as file:\n",
    "        file.write(response.content)\n",
    "    print(f'Downloaded {file_name} from {url}')\n",
    "\n",
    "# Downloading the files\n",
    "download_file(train_data_url, 'module5_exercise_train.csv')\n",
    "download_file(test_data_url, 'module5_exercise_test.csv')"
   ]
  },
  {
   "cell_type": "code",
   "execution_count": 69,
   "id": "6aec8aa5-d188-407d-8422-cf4d54ccac63",
   "metadata": {},
   "outputs": [],
   "source": [
    "df_train =  pd.read_csv(\"module5_exercise_train.csv\", sep=\",\")\n",
    "df_test =  pd.read_csv(\"module5_exercise_test.csv\", sep=\",\")"
   ]
  },
  {
   "cell_type": "markdown",
   "id": "a60fa867-ddfe-403d-ba84-071792339e6f",
   "metadata": {},
   "source": [
    "### Data analysis"
   ]
  },
  {
   "cell_type": "code",
   "execution_count": 70,
   "id": "823a4916-1a3a-4f43-989e-4b9441cc142d",
   "metadata": {},
   "outputs": [],
   "source": [
    "#### Make a complete analysis on data preprocessing\n",
    "# Inconsistencies\n",
    "# Duplicates (data.duplicated().sum())\n",
    "# Missing values (data.isnull().sum())\n",
    "# Categorical\n",
    "# Outliers\n",
    "# Feature Engineering\n",
    "# Feature Selection and/or Dimensionality Reduction"
   ]
  },
  {
   "cell_type": "code",
   "execution_count": 71,
   "id": "9b2a9ca3-d867-41aa-9cd2-67aadf0df23d",
   "metadata": {},
   "outputs": [],
   "source": [
    "data = pd.concat([df_train, df_test], axis=0)"
   ]
  },
  {
   "cell_type": "code",
   "execution_count": 72,
   "id": "a852e1b0-224e-4db6-921e-3ac3df414bec",
   "metadata": {},
   "outputs": [
    {
     "data": {
      "text/plain": [
       "(1909, 16)"
      ]
     },
     "execution_count": 72,
     "metadata": {},
     "output_type": "execute_result"
    }
   ],
   "source": [
    "df_train.shape"
   ]
  },
  {
   "cell_type": "code",
   "execution_count": 73,
   "id": "c046b07a-845c-460b-a692-27a97ec3d613",
   "metadata": {},
   "outputs": [
    {
     "data": {
      "text/plain": [
       "(365, 15)"
      ]
     },
     "execution_count": 73,
     "metadata": {},
     "output_type": "execute_result"
    }
   ],
   "source": [
    "df_test.shape"
   ]
  },
  {
   "cell_type": "code",
   "execution_count": 74,
   "id": "4bed93e3-c3df-44a1-ab90-9b35157ffa24",
   "metadata": {},
   "outputs": [],
   "source": [
    "def plot_feature_over_time(df, feature, date_id_start, date_id_end):\n",
    "    df_filtered = df[(df['date'] >= date_id_start) & (df['date'] <= date_id_end)]\n",
    "    \n",
    "    if feature not in df_filtered.columns:\n",
    "        print(f\"Feature '{feature}' not found in the DataFrame.\")\n",
    "        return\n",
    "    \n",
    "    # Plotting\n",
    "    plt.figure(figsize=(10, 6))\n",
    "    plt.plot(df_filtered['date'], df_filtered[feature], label=feature, linestyle='-')\n",
    "    plt.xlabel('Date')\n",
    "    plt.ylabel(feature)\n",
    "    plt.title(f'{feature} from {date_id_start} to {date_id_end}')\n",
    "    plt.xticks(rotation=45)\n",
    "    plt.grid(True)\n",
    "    plt.legend()\n",
    "    plt.tight_layout()\n",
    "    plt.show()\n"
   ]
  },
  {
   "cell_type": "code",
   "execution_count": 75,
   "id": "baeaef1e-284b-416c-9cae-91948a7b6878",
   "metadata": {
    "scrolled": false
   },
   "outputs": [
    {
     "data": {
      "text/html": [
       "<div>\n",
       "<style scoped>\n",
       "    .dataframe tbody tr th:only-of-type {\n",
       "        vertical-align: middle;\n",
       "    }\n",
       "\n",
       "    .dataframe tbody tr th {\n",
       "        vertical-align: top;\n",
       "    }\n",
       "\n",
       "    .dataframe thead th {\n",
       "        text-align: right;\n",
       "    }\n",
       "</style>\n",
       "<table border=\"1\" class=\"dataframe\">\n",
       "  <thead>\n",
       "    <tr style=\"text-align: right;\">\n",
       "      <th></th>\n",
       "      <th>date</th>\n",
       "      <th>weather_condition</th>\n",
       "      <th>humidity</th>\n",
       "      <th>wind_speed</th>\n",
       "      <th>oil_brent_price_indicator</th>\n",
       "      <th>temperature_station1</th>\n",
       "      <th>temperature_station2</th>\n",
       "      <th>temperature_station3</th>\n",
       "      <th>temperature_station4</th>\n",
       "      <th>temperature_station5</th>\n",
       "      <th>temperature_station6</th>\n",
       "      <th>temperature_station7</th>\n",
       "      <th>temperature_station8</th>\n",
       "      <th>temperature_station9</th>\n",
       "      <th>temperature_station10</th>\n",
       "      <th>electricity_demand</th>\n",
       "    </tr>\n",
       "  </thead>\n",
       "  <tbody>\n",
       "    <tr>\n",
       "      <th>0</th>\n",
       "      <td>2015-01-08</td>\n",
       "      <td>Cloudy</td>\n",
       "      <td>69.304377</td>\n",
       "      <td>27.74 km/h</td>\n",
       "      <td>Moderate</td>\n",
       "      <td>0.369411</td>\n",
       "      <td>NaN</td>\n",
       "      <td>0.159977</td>\n",
       "      <td>0.118224</td>\n",
       "      <td>-0.444455</td>\n",
       "      <td>0.313675</td>\n",
       "      <td>0.106192</td>\n",
       "      <td>0.369430</td>\n",
       "      <td>1.279470</td>\n",
       "      <td>-0.384661</td>\n",
       "      <td>273.511353</td>\n",
       "    </tr>\n",
       "    <tr>\n",
       "      <th>1</th>\n",
       "      <td>2015-01-09</td>\n",
       "      <td>Sunny</td>\n",
       "      <td>55.955975</td>\n",
       "      <td>21.78 km/h</td>\n",
       "      <td>Moderate</td>\n",
       "      <td>2.009903</td>\n",
       "      <td>NaN</td>\n",
       "      <td>1.617242</td>\n",
       "      <td>NaN</td>\n",
       "      <td>2.160063</td>\n",
       "      <td>2.515627</td>\n",
       "      <td>1.867474</td>\n",
       "      <td>1.953165</td>\n",
       "      <td>1.878233</td>\n",
       "      <td>1.582365</td>\n",
       "      <td>258.827085</td>\n",
       "    </tr>\n",
       "    <tr>\n",
       "      <th>2</th>\n",
       "      <td>2015-01-10</td>\n",
       "      <td>Rainy</td>\n",
       "      <td>62.701614</td>\n",
       "      <td>6.83 m/s</td>\n",
       "      <td>Moderate</td>\n",
       "      <td>-2.603544</td>\n",
       "      <td>-2.422001</td>\n",
       "      <td>-3.685819</td>\n",
       "      <td>-2.392354</td>\n",
       "      <td>-1.936704</td>\n",
       "      <td>-2.950332</td>\n",
       "      <td>-3.074828</td>\n",
       "      <td>-2.698650</td>\n",
       "      <td>-2.354860</td>\n",
       "      <td>-2.770883</td>\n",
       "      <td>302.535033</td>\n",
       "    </tr>\n",
       "    <tr>\n",
       "      <th>3</th>\n",
       "      <td>2015-01-11</td>\n",
       "      <td>Snowy</td>\n",
       "      <td>60.375001</td>\n",
       "      <td>5.79 m/s</td>\n",
       "      <td>Moderate</td>\n",
       "      <td>-3.789836</td>\n",
       "      <td>-3.974054</td>\n",
       "      <td>-3.217545</td>\n",
       "      <td>-4.397143</td>\n",
       "      <td>-3.375188</td>\n",
       "      <td>-3.650454</td>\n",
       "      <td>-5.004991</td>\n",
       "      <td>-3.233724</td>\n",
       "      <td>-4.227899</td>\n",
       "      <td>NaN</td>\n",
       "      <td>296.270989</td>\n",
       "    </tr>\n",
       "    <tr>\n",
       "      <th>4</th>\n",
       "      <td>2015-01-12</td>\n",
       "      <td>Snowy</td>\n",
       "      <td>NaN</td>\n",
       "      <td>25.14 km/h</td>\n",
       "      <td>High</td>\n",
       "      <td>-2.405522</td>\n",
       "      <td>-2.161129</td>\n",
       "      <td>-2.880773</td>\n",
       "      <td>-2.587199</td>\n",
       "      <td>NaN</td>\n",
       "      <td>NaN</td>\n",
       "      <td>NaN</td>\n",
       "      <td>NaN</td>\n",
       "      <td>-2.790422</td>\n",
       "      <td>-2.033098</td>\n",
       "      <td>323.498090</td>\n",
       "    </tr>\n",
       "    <tr>\n",
       "      <th>...</th>\n",
       "      <td>...</td>\n",
       "      <td>...</td>\n",
       "      <td>...</td>\n",
       "      <td>...</td>\n",
       "      <td>...</td>\n",
       "      <td>...</td>\n",
       "      <td>...</td>\n",
       "      <td>...</td>\n",
       "      <td>...</td>\n",
       "      <td>...</td>\n",
       "      <td>...</td>\n",
       "      <td>...</td>\n",
       "      <td>...</td>\n",
       "      <td>...</td>\n",
       "      <td>...</td>\n",
       "      <td>...</td>\n",
       "    </tr>\n",
       "    <tr>\n",
       "      <th>360</th>\n",
       "      <td>2019-12-27</td>\n",
       "      <td>Snowy</td>\n",
       "      <td>71.521673</td>\n",
       "      <td>22.78 km/h</td>\n",
       "      <td>Moderate</td>\n",
       "      <td>-1.674798</td>\n",
       "      <td>-2.338987</td>\n",
       "      <td>-1.829170</td>\n",
       "      <td>-0.881428</td>\n",
       "      <td>-0.571347</td>\n",
       "      <td>-2.231680</td>\n",
       "      <td>-1.962735</td>\n",
       "      <td>-1.602805</td>\n",
       "      <td>-1.264779</td>\n",
       "      <td>-1.705180</td>\n",
       "      <td>NaN</td>\n",
       "    </tr>\n",
       "    <tr>\n",
       "      <th>361</th>\n",
       "      <td>2019-12-28</td>\n",
       "      <td>Sunny</td>\n",
       "      <td>67.220123</td>\n",
       "      <td>18.33 km/h</td>\n",
       "      <td>High</td>\n",
       "      <td>3.209205</td>\n",
       "      <td>2.508606</td>\n",
       "      <td>2.195577</td>\n",
       "      <td>NaN</td>\n",
       "      <td>NaN</td>\n",
       "      <td>3.236547</td>\n",
       "      <td>3.181473</td>\n",
       "      <td>3.094390</td>\n",
       "      <td>NaN</td>\n",
       "      <td>3.475638</td>\n",
       "      <td>NaN</td>\n",
       "    </tr>\n",
       "    <tr>\n",
       "      <th>362</th>\n",
       "      <td>2019-12-29</td>\n",
       "      <td>Rainy</td>\n",
       "      <td>68.085227</td>\n",
       "      <td>7.24 m/s</td>\n",
       "      <td>Moderate</td>\n",
       "      <td>3.688132</td>\n",
       "      <td>3.919479</td>\n",
       "      <td>NaN</td>\n",
       "      <td>4.071717</td>\n",
       "      <td>4.365347</td>\n",
       "      <td>3.580358</td>\n",
       "      <td>3.404292</td>\n",
       "      <td>4.173461</td>\n",
       "      <td>3.755625</td>\n",
       "      <td>4.070333</td>\n",
       "      <td>NaN</td>\n",
       "    </tr>\n",
       "    <tr>\n",
       "      <th>363</th>\n",
       "      <td>2019-12-30</td>\n",
       "      <td>Cloudy</td>\n",
       "      <td>65.877214</td>\n",
       "      <td>7.67 m/s</td>\n",
       "      <td>Moderate</td>\n",
       "      <td>NaN</td>\n",
       "      <td>0.700484</td>\n",
       "      <td>NaN</td>\n",
       "      <td>-0.407440</td>\n",
       "      <td>-0.580917</td>\n",
       "      <td>-0.444730</td>\n",
       "      <td>0.034229</td>\n",
       "      <td>0.021199</td>\n",
       "      <td>-0.864657</td>\n",
       "      <td>NaN</td>\n",
       "      <td>NaN</td>\n",
       "    </tr>\n",
       "    <tr>\n",
       "      <th>364</th>\n",
       "      <td>2019-12-31</td>\n",
       "      <td>Cloudy</td>\n",
       "      <td>62.344026</td>\n",
       "      <td>30.99 km/h</td>\n",
       "      <td>Low</td>\n",
       "      <td>0.685487</td>\n",
       "      <td>0.080994</td>\n",
       "      <td>2.331834</td>\n",
       "      <td>1.093023</td>\n",
       "      <td>0.755162</td>\n",
       "      <td>0.971076</td>\n",
       "      <td>0.412485</td>\n",
       "      <td>0.169638</td>\n",
       "      <td>0.339503</td>\n",
       "      <td>-0.155684</td>\n",
       "      <td>NaN</td>\n",
       "    </tr>\n",
       "  </tbody>\n",
       "</table>\n",
       "<p>2274 rows × 16 columns</p>\n",
       "</div>"
      ],
      "text/plain": [
       "           date weather_condition   humidity  wind_speed  \\\n",
       "0    2015-01-08            Cloudy  69.304377  27.74 km/h   \n",
       "1    2015-01-09             Sunny  55.955975  21.78 km/h   \n",
       "2    2015-01-10             Rainy  62.701614    6.83 m/s   \n",
       "3    2015-01-11             Snowy  60.375001    5.79 m/s   \n",
       "4    2015-01-12             Snowy        NaN  25.14 km/h   \n",
       "..          ...               ...        ...         ...   \n",
       "360  2019-12-27             Snowy  71.521673  22.78 km/h   \n",
       "361  2019-12-28             Sunny  67.220123  18.33 km/h   \n",
       "362  2019-12-29             Rainy  68.085227    7.24 m/s   \n",
       "363  2019-12-30            Cloudy  65.877214    7.67 m/s   \n",
       "364  2019-12-31            Cloudy  62.344026  30.99 km/h   \n",
       "\n",
       "    oil_brent_price_indicator  temperature_station1  temperature_station2  \\\n",
       "0                    Moderate              0.369411                   NaN   \n",
       "1                    Moderate              2.009903                   NaN   \n",
       "2                    Moderate             -2.603544             -2.422001   \n",
       "3                    Moderate             -3.789836             -3.974054   \n",
       "4                        High             -2.405522             -2.161129   \n",
       "..                        ...                   ...                   ...   \n",
       "360                  Moderate             -1.674798             -2.338987   \n",
       "361                      High              3.209205              2.508606   \n",
       "362                  Moderate              3.688132              3.919479   \n",
       "363                  Moderate                   NaN              0.700484   \n",
       "364                       Low              0.685487              0.080994   \n",
       "\n",
       "     temperature_station3  temperature_station4  temperature_station5  \\\n",
       "0                0.159977              0.118224             -0.444455   \n",
       "1                1.617242                   NaN              2.160063   \n",
       "2               -3.685819             -2.392354             -1.936704   \n",
       "3               -3.217545             -4.397143             -3.375188   \n",
       "4               -2.880773             -2.587199                   NaN   \n",
       "..                    ...                   ...                   ...   \n",
       "360             -1.829170             -0.881428             -0.571347   \n",
       "361              2.195577                   NaN                   NaN   \n",
       "362                   NaN              4.071717              4.365347   \n",
       "363                   NaN             -0.407440             -0.580917   \n",
       "364              2.331834              1.093023              0.755162   \n",
       "\n",
       "     temperature_station6  temperature_station7  temperature_station8  \\\n",
       "0                0.313675              0.106192              0.369430   \n",
       "1                2.515627              1.867474              1.953165   \n",
       "2               -2.950332             -3.074828             -2.698650   \n",
       "3               -3.650454             -5.004991             -3.233724   \n",
       "4                     NaN                   NaN                   NaN   \n",
       "..                    ...                   ...                   ...   \n",
       "360             -2.231680             -1.962735             -1.602805   \n",
       "361              3.236547              3.181473              3.094390   \n",
       "362              3.580358              3.404292              4.173461   \n",
       "363             -0.444730              0.034229              0.021199   \n",
       "364              0.971076              0.412485              0.169638   \n",
       "\n",
       "     temperature_station9  temperature_station10  electricity_demand  \n",
       "0                1.279470              -0.384661          273.511353  \n",
       "1                1.878233               1.582365          258.827085  \n",
       "2               -2.354860              -2.770883          302.535033  \n",
       "3               -4.227899                    NaN          296.270989  \n",
       "4               -2.790422              -2.033098          323.498090  \n",
       "..                    ...                    ...                 ...  \n",
       "360             -1.264779              -1.705180                 NaN  \n",
       "361                   NaN               3.475638                 NaN  \n",
       "362              3.755625               4.070333                 NaN  \n",
       "363             -0.864657                    NaN                 NaN  \n",
       "364              0.339503              -0.155684                 NaN  \n",
       "\n",
       "[2274 rows x 16 columns]"
      ]
     },
     "execution_count": 75,
     "metadata": {},
     "output_type": "execute_result"
    }
   ],
   "source": [
    "data"
   ]
  },
  {
   "cell_type": "code",
   "execution_count": 76,
   "id": "e3ed48fa",
   "metadata": {},
   "outputs": [
    {
     "data": {
      "text/plain": [
       "(2274, 16)"
      ]
     },
     "execution_count": 76,
     "metadata": {},
     "output_type": "execute_result"
    }
   ],
   "source": [
    "# 1.Inconsistencies\n",
    "data.shape"
   ]
  },
  {
   "cell_type": "code",
   "execution_count": 77,
   "id": "8bb563eb",
   "metadata": {
    "scrolled": false
   },
   "outputs": [
    {
     "name": "stdout",
     "output_type": "stream",
     "text": [
      "<class 'pandas.core.frame.DataFrame'>\n",
      "Int64Index: 2274 entries, 0 to 364\n",
      "Data columns (total 16 columns):\n",
      " #   Column                     Non-Null Count  Dtype  \n",
      "---  ------                     --------------  -----  \n",
      " 0   date                       2274 non-null   object \n",
      " 1   weather_condition          2246 non-null   object \n",
      " 2   humidity                   2165 non-null   float64\n",
      " 3   wind_speed                 2167 non-null   object \n",
      " 4   oil_brent_price_indicator  2274 non-null   object \n",
      " 5   temperature_station1       1930 non-null   float64\n",
      " 6   temperature_station2       1946 non-null   float64\n",
      " 7   temperature_station3       1934 non-null   float64\n",
      " 8   temperature_station4       1954 non-null   float64\n",
      " 9   temperature_station5       1937 non-null   float64\n",
      " 10  temperature_station6       1953 non-null   float64\n",
      " 11  temperature_station7       1913 non-null   float64\n",
      " 12  temperature_station8       1938 non-null   float64\n",
      " 13  temperature_station9       1924 non-null   float64\n",
      " 14  temperature_station10      1907 non-null   float64\n",
      " 15  electricity_demand         1909 non-null   float64\n",
      "dtypes: float64(12), object(4)\n",
      "memory usage: 302.0+ KB\n"
     ]
    }
   ],
   "source": [
    "data.info()"
   ]
  },
  {
   "cell_type": "code",
   "execution_count": 78,
   "id": "6b2fc60b",
   "metadata": {
    "scrolled": true
   },
   "outputs": [
    {
     "data": {
      "text/plain": [
       "0      27.74 km/h\n",
       "1      21.78 km/h\n",
       "2        6.83 m/s\n",
       "3        5.79 m/s\n",
       "4      25.14 km/h\n",
       "          ...    \n",
       "360    22.78 km/h\n",
       "361    18.33 km/h\n",
       "362      7.24 m/s\n",
       "363      7.67 m/s\n",
       "364    30.99 km/h\n",
       "Name: wind_speed, Length: 2274, dtype: object"
      ]
     },
     "execution_count": 78,
     "metadata": {},
     "output_type": "execute_result"
    }
   ],
   "source": [
    "data['date'] = pd.to_datetime(data['date'])\n",
    "data['wind_speed']"
   ]
  },
  {
   "cell_type": "code",
   "execution_count": 79,
   "id": "9990c442",
   "metadata": {},
   "outputs": [
    {
     "data": {
      "image/png": "[encoded data removed]",
      "text/plain": [
       "<Figure size 1000x600 with 1 Axes>"
      ]
     },
     "metadata": {},
     "output_type": "display_data"
    }
   ],
   "source": [
    "plot_feature_over_time(data, 'electricity_demand', '2017-01-01', '2019-09-07')"
   ]
  },
  {
   "cell_type": "code",
   "execution_count": 80,
   "id": "aeb8832b",
   "metadata": {},
   "outputs": [
    {
     "data": {
      "image/png": "[encoded data removed]",
      "text/plain": [
       "<Figure size 1000x600 with 1 Axes>"
      ]
     },
     "metadata": {},
     "output_type": "display_data"
    }
   ],
   "source": [
    "plot_feature_over_time(data, 'humidity', '2016-06-01', '2016-12-01')"
   ]
  },
  {
   "cell_type": "code",
   "execution_count": 81,
   "id": "63945c28",
   "metadata": {},
   "outputs": [
    {
     "name": "stdout",
     "output_type": "stream",
     "text": [
      "The number of duplicates: 90\n"
     ]
    }
   ],
   "source": [
    "# 2.Duplicates\n",
    "print(\"The number of duplicates:\", data.duplicated().sum())"
   ]
  },
  {
   "cell_type": "code",
   "execution_count": 82,
   "id": "c1f364ab",
   "metadata": {},
   "outputs": [
    {
     "data": {
      "text/plain": [
       "date                           0\n",
       "weather_condition             28\n",
       "humidity                     109\n",
       "wind_speed                   107\n",
       "oil_brent_price_indicator      0\n",
       "temperature_station1         344\n",
       "temperature_station2         328\n",
       "temperature_station3         340\n",
       "temperature_station4         320\n",
       "temperature_station5         337\n",
       "temperature_station6         321\n",
       "temperature_station7         361\n",
       "temperature_station8         336\n",
       "temperature_station9         350\n",
       "temperature_station10        367\n",
       "electricity_demand           365\n",
       "dtype: int64"
      ]
     },
     "execution_count": 82,
     "metadata": {},
     "output_type": "execute_result"
    }
   ],
   "source": [
    "# 3.Missing Values\n",
    "data.isnull().sum()"
   ]
  },
  {
   "cell_type": "code",
   "execution_count": 83,
   "id": "966636f0",
   "metadata": {},
   "outputs": [
    {
     "data": {
      "image/png": "[encoded data removed]",
      "text/plain": [
       "<Figure size 1200x600 with 1 Axes>"
      ]
     },
     "metadata": {},
     "output_type": "display_data"
    }
   ],
   "source": [
    "plt.figure(figsize=(12, 6))\n",
    "sns.heatmap(data.isnull(), cbar=False, cmap='viridis', yticklabels=False)\n",
    "plt.title('Missing Value Heatmap')\n",
    "plt.show()"
   ]
  },
  {
   "cell_type": "code",
   "execution_count": 84,
   "id": "a7c621ef",
   "metadata": {},
   "outputs": [
    {
     "data": {
      "text/plain": [
       "Rainy     683\n",
       "Sunny     681\n",
       "Cloudy    669\n",
       "Snowy     213\n",
       "Name: weather_condition, dtype: int64"
      ]
     },
     "execution_count": 84,
     "metadata": {},
     "output_type": "execute_result"
    }
   ],
   "source": [
    "# 4.Categorical\n",
    "# weather_condition\n",
    "data['weather_condition'].value_counts()"
   ]
  },
  {
   "cell_type": "code",
   "execution_count": 85,
   "id": "16c6da2d",
   "metadata": {
    "scrolled": true
   },
   "outputs": [
    {
     "data": {
      "text/plain": [
       "Moderate     837\n",
       "High         687\n",
       "Low          435\n",
       "Very High    239\n",
       "Very Low      76\n",
       "Name: oil_brent_price_indicator, dtype: int64"
      ]
     },
     "execution_count": 85,
     "metadata": {},
     "output_type": "execute_result"
    }
   ],
   "source": [
    "# oil_brent_price_indicator \n",
    "data['oil_brent_price_indicator'].value_counts()"
   ]
  },
  {
   "cell_type": "code",
   "execution_count": 86,
   "id": "b205d2b7",
   "metadata": {
    "scrolled": true
   },
   "outputs": [
    {
     "name": "stdout",
     "output_type": "stream",
     "text": [
      "date                         datetime64[ns]\n",
      "weather_condition                    object\n",
      "humidity                            float64\n",
      "wind_speed                           object\n",
      "oil_brent_price_indicator            object\n",
      "temperature_station1                float64\n",
      "temperature_station2                float64\n",
      "temperature_station3                float64\n",
      "temperature_station4                float64\n",
      "temperature_station5                float64\n",
      "temperature_station6                float64\n",
      "temperature_station7                float64\n",
      "temperature_station8                float64\n",
      "temperature_station9                float64\n",
      "temperature_station10               float64\n",
      "electricity_demand                  float64\n",
      "dtype: object\n"
     ]
    }
   ],
   "source": [
    "print(data.dtypes)"
   ]
  },
  {
   "cell_type": "code",
   "execution_count": 87,
   "id": "bc876d80",
   "metadata": {
    "scrolled": true
   },
   "outputs": [
    {
     "data": {
      "text/html": [
       "<div>\n",
       "<style scoped>\n",
       "    .dataframe tbody tr th:only-of-type {\n",
       "        vertical-align: middle;\n",
       "    }\n",
       "\n",
       "    .dataframe tbody tr th {\n",
       "        vertical-align: top;\n",
       "    }\n",
       "\n",
       "    .dataframe thead th {\n",
       "        text-align: right;\n",
       "    }\n",
       "</style>\n",
       "<table border=\"1\" class=\"dataframe\">\n",
       "  <thead>\n",
       "    <tr style=\"text-align: right;\">\n",
       "      <th></th>\n",
       "      <th>humidity</th>\n",
       "      <th>temperature_station1</th>\n",
       "      <th>temperature_station2</th>\n",
       "      <th>temperature_station3</th>\n",
       "      <th>temperature_station4</th>\n",
       "      <th>temperature_station5</th>\n",
       "      <th>temperature_station6</th>\n",
       "      <th>temperature_station7</th>\n",
       "      <th>temperature_station8</th>\n",
       "      <th>temperature_station9</th>\n",
       "      <th>temperature_station10</th>\n",
       "      <th>electricity_demand</th>\n",
       "    </tr>\n",
       "  </thead>\n",
       "  <tbody>\n",
       "    <tr>\n",
       "      <th>count</th>\n",
       "      <td>2165.000000</td>\n",
       "      <td>1930.000000</td>\n",
       "      <td>1946.000000</td>\n",
       "      <td>1934.000000</td>\n",
       "      <td>1954.000000</td>\n",
       "      <td>1937.000000</td>\n",
       "      <td>1953.000000</td>\n",
       "      <td>1913.000000</td>\n",
       "      <td>1938.000000</td>\n",
       "      <td>1924.000000</td>\n",
       "      <td>1907.000000</td>\n",
       "      <td>1909.000000</td>\n",
       "    </tr>\n",
       "    <tr>\n",
       "      <th>mean</th>\n",
       "      <td>107.035790</td>\n",
       "      <td>13.396383</td>\n",
       "      <td>13.077731</td>\n",
       "      <td>13.199494</td>\n",
       "      <td>13.310531</td>\n",
       "      <td>13.312156</td>\n",
       "      <td>13.301409</td>\n",
       "      <td>13.296276</td>\n",
       "      <td>13.350021</td>\n",
       "      <td>13.484352</td>\n",
       "      <td>13.331970</td>\n",
       "      <td>106.378555</td>\n",
       "    </tr>\n",
       "    <tr>\n",
       "      <th>std</th>\n",
       "      <td>1517.524083</td>\n",
       "      <td>10.775543</td>\n",
       "      <td>10.772682</td>\n",
       "      <td>10.782193</td>\n",
       "      <td>10.817318</td>\n",
       "      <td>10.775815</td>\n",
       "      <td>10.796030</td>\n",
       "      <td>10.755605</td>\n",
       "      <td>10.763963</td>\n",
       "      <td>10.776536</td>\n",
       "      <td>10.796021</td>\n",
       "      <td>5115.886615</td>\n",
       "    </tr>\n",
       "    <tr>\n",
       "      <th>min</th>\n",
       "      <td>32.814149</td>\n",
       "      <td>-12.819683</td>\n",
       "      <td>-12.316331</td>\n",
       "      <td>-12.904753</td>\n",
       "      <td>-12.783663</td>\n",
       "      <td>-9.513493</td>\n",
       "      <td>-12.873628</td>\n",
       "      <td>-12.752546</td>\n",
       "      <td>-13.213493</td>\n",
       "      <td>-13.369174</td>\n",
       "      <td>-12.360144</td>\n",
       "      <td>-223288.771683</td>\n",
       "    </tr>\n",
       "    <tr>\n",
       "      <th>25%</th>\n",
       "      <td>54.128279</td>\n",
       "      <td>5.489321</td>\n",
       "      <td>4.987520</td>\n",
       "      <td>5.204434</td>\n",
       "      <td>5.219280</td>\n",
       "      <td>5.240711</td>\n",
       "      <td>5.380471</td>\n",
       "      <td>5.499581</td>\n",
       "      <td>5.322248</td>\n",
       "      <td>5.585514</td>\n",
       "      <td>5.305135</td>\n",
       "      <td>185.065853</td>\n",
       "    </tr>\n",
       "    <tr>\n",
       "      <th>50%</th>\n",
       "      <td>62.208706</td>\n",
       "      <td>12.865173</td>\n",
       "      <td>12.693993</td>\n",
       "      <td>12.704200</td>\n",
       "      <td>12.911890</td>\n",
       "      <td>12.810285</td>\n",
       "      <td>12.799441</td>\n",
       "      <td>12.795622</td>\n",
       "      <td>13.067600</td>\n",
       "      <td>12.846059</td>\n",
       "      <td>12.872528</td>\n",
       "      <td>214.482125</td>\n",
       "    </tr>\n",
       "    <tr>\n",
       "      <th>75%</th>\n",
       "      <td>68.142186</td>\n",
       "      <td>22.857480</td>\n",
       "      <td>21.740908</td>\n",
       "      <td>22.198554</td>\n",
       "      <td>22.474576</td>\n",
       "      <td>22.512605</td>\n",
       "      <td>22.321765</td>\n",
       "      <td>22.393285</td>\n",
       "      <td>22.018201</td>\n",
       "      <td>22.646406</td>\n",
       "      <td>22.439541</td>\n",
       "      <td>257.229149</td>\n",
       "    </tr>\n",
       "    <tr>\n",
       "      <th>max</th>\n",
       "      <td>50000.000000</td>\n",
       "      <td>35.456648</td>\n",
       "      <td>37.267279</td>\n",
       "      <td>37.727810</td>\n",
       "      <td>38.133324</td>\n",
       "      <td>38.471490</td>\n",
       "      <td>38.588948</td>\n",
       "      <td>37.769152</td>\n",
       "      <td>38.098873</td>\n",
       "      <td>38.470479</td>\n",
       "      <td>37.651955</td>\n",
       "      <td>387.741952</td>\n",
       "    </tr>\n",
       "  </tbody>\n",
       "</table>\n",
       "</div>"
      ],
      "text/plain": [
       "           humidity  temperature_station1  temperature_station2  \\\n",
       "count   2165.000000           1930.000000           1946.000000   \n",
       "mean     107.035790             13.396383             13.077731   \n",
       "std     1517.524083             10.775543             10.772682   \n",
       "min       32.814149            -12.819683            -12.316331   \n",
       "25%       54.128279              5.489321              4.987520   \n",
       "50%       62.208706             12.865173             12.693993   \n",
       "75%       68.142186             22.857480             21.740908   \n",
       "max    50000.000000             35.456648             37.267279   \n",
       "\n",
       "       temperature_station3  temperature_station4  temperature_station5  \\\n",
       "count           1934.000000           1954.000000           1937.000000   \n",
       "mean              13.199494             13.310531             13.312156   \n",
       "std               10.782193             10.817318             10.775815   \n",
       "min              -12.904753            -12.783663             -9.513493   \n",
       "25%                5.204434              5.219280              5.240711   \n",
       "50%               12.704200             12.911890             12.810285   \n",
       "75%               22.198554             22.474576             22.512605   \n",
       "max               37.727810             38.133324             38.471490   \n",
       "\n",
       "       temperature_station6  temperature_station7  temperature_station8  \\\n",
       "count           1953.000000           1913.000000           1938.000000   \n",
       "mean              13.301409             13.296276             13.350021   \n",
       "std               10.796030             10.755605             10.763963   \n",
       "min              -12.873628            -12.752546            -13.213493   \n",
       "25%                5.380471              5.499581              5.322248   \n",
       "50%               12.799441             12.795622             13.067600   \n",
       "75%               22.321765             22.393285             22.018201   \n",
       "max               38.588948             37.769152             38.098873   \n",
       "\n",
       "       temperature_station9  temperature_station10  electricity_demand  \n",
       "count           1924.000000            1907.000000         1909.000000  \n",
       "mean              13.484352              13.331970          106.378555  \n",
       "std               10.776536              10.796021         5115.886615  \n",
       "min              -13.369174             -12.360144      -223288.771683  \n",
       "25%                5.585514               5.305135          185.065853  \n",
       "50%               12.846059              12.872528          214.482125  \n",
       "75%               22.646406              22.439541          257.229149  \n",
       "max               38.470479              37.651955          387.741952  "
      ]
     },
     "execution_count": 87,
     "metadata": {},
     "output_type": "execute_result"
    }
   ],
   "source": [
    "# 5. Outliers\n",
    "data.describe()"
   ]
  },
  {
   "cell_type": "markdown",
   "id": "d00dd628-b436-4f3b-829d-38b18589a12b",
   "metadata": {},
   "source": [
    "### Data Preprocessing Evaluation Strategy"
   ]
  },
  {
   "cell_type": "code",
   "execution_count": 88,
   "id": "86971ab4-1ef8-464b-afb5-0d750a8c4035",
   "metadata": {},
   "outputs": [],
   "source": [
    "# Provide a complete data preprocessing transformations"
   ]
  },
  {
   "cell_type": "code",
   "execution_count": 102,
   "id": "36fc00c1",
   "metadata": {},
   "outputs": [],
   "source": [
    "# 1. Handle Inconsistencies\n",
    "def handle_inconsistencies(X_train, y_train, X_val=None):\n",
    "    def handle_windspeed(windspeed):\n",
    "        windspeed = str(windspeed).strip()\n",
    "        if \"km/h\" in windspeed:\n",
    "            speed = float(windspeed.replace(\"km/h\", \"\").strip())\n",
    "        elif \"m/s\" in windspeed:\n",
    "            speed = float(windspeed.replace(\"m/s\", \"\").strip()) * 3.6  \n",
    "        else:\n",
    "            speed = float(windspeed)\n",
    "        return speed\n",
    "    if X_val is not None:\n",
    "        X_train['wind_speed'] = X_train['wind_speed'].apply(handle_windspeed)\n",
    "        X_val['wind_speed'] = X_val['wind_speed'].apply(handle_windspeed)\n",
    "        return X_train, y_train, X_val\n",
    "    else:\n",
    "        X_train['wind_speed'] = X_train['wind_speed'].apply(handle_windspeed)\n",
    "        return X_train, y_train\n",
    "\n",
    "\n",
    "# 2. Handling Duplicates\n",
    "def handle_duplicates(X_train, y_train, X_val=None):\n",
    "    X_train_no_duplicates = X_train.copy()\n",
    "    y_train_no_duplicates = y_train.copy()\n",
    "    X_train_no_duplicates = X_train_no_duplicates.drop_duplicates()\n",
    "    y_train_no_duplicates = y_train_no_duplicates.loc[X_train_no_duplicates.index]\n",
    "    if X_val is not None:\n",
    "        return X_train_no_duplicates, y_train_no_duplicates, X_val\n",
    "    else:\n",
    "        return X_train_no_duplicates, y_train_no_duplicates\n",
    "\n",
    "\n",
    "# 3. Handling Missing Values\n",
    "def handle_missing_values(X_train, y_train, X_val=None):\n",
    "    if X_val is not None:\n",
    "        X_train_filled = X_train.ffill().bfill()\n",
    "        X_val_filled = X_val.ffill().bfill()\n",
    "        return X_train_filled, X_val_filled\n",
    "    else:\n",
    "        X_train_filled = X_train.ffill().bfill()\n",
    "        return X_train_filled\n",
    "\n",
    "# 4. Handling Categorical Values\n",
    "def handle_categorical(X_train, y_train, X_val=None):\n",
    "    mapping = {'Very Low': 0, 'Low': 1, 'Moderate': 2, 'High': 3, 'Very High': 4}\n",
    "    X_train_encoded = pd.get_dummies(X_train.copy(), columns=['weather_condition'], dummy_na=False)\n",
    "    X_train_encoded['oil_brent_price_indicator'] = X_train_encoded['oil_brent_price_indicator'].map(mapping)\n",
    "    if X_val is not None:\n",
    "        X_val_encoded = pd.get_dummies(X_val.copy(), columns=['weather_condition'], dummy_na=False)\n",
    "        X_val_encoded['oil_brent_price_indicator'] = X_val_encoded['oil_brent_price_indicator'].map(mapping)\n",
    "        X_val_encoded = X_val_encoded.reindex(columns=X_train_encoded.columns, fill_value=0)\n",
    "        return X_train_encoded, X_val_encoded\n",
    "    else:\n",
    "        return X_train_encoded\n",
    "\n",
    "# 5. Handling Outliers\n",
    "def handle_outliers(X_train, y_train, X_val=None):\n",
    "    def IQR(df, columns):\n",
    "        for column in columns:\n",
    "            Q1 = df[column].quantile(0.25)\n",
    "            Q3 = df[column].quantile(0.75)\n",
    "            IQR = Q3 - Q1\n",
    "            lower_bound = Q1 - 1.5 * IQR\n",
    "            upper_bound = Q3 + 1.5 * IQR\n",
    "            df[column] = np.clip(df[column], lower_bound, upper_bound)\n",
    "        return df\n",
    "    def handle_y_outliers(y):\n",
    "        Q1 = y.quantile(0.25)\n",
    "        Q3 = y.quantile(0.75)\n",
    "        IQR = Q3 - Q1\n",
    "        lower_bound = Q1 - 1.5 * IQR\n",
    "        upper_bound = Q3 + 1.5 * IQR\n",
    "        return np.clip(y, lower_bound, upper_bound)\n",
    "    col = ['humidity']\n",
    "    X_train = IQR(X_train.copy(), col)\n",
    "    y_train = handle_y_outliers(y_train.copy())\n",
    "    if X_val is not None:\n",
    "        X_val = IQR(X_val.copy(), col)\n",
    "        return X_train, y_train, X_val\n",
    "    else:\n",
    "        return X_train, y_train\n",
    "\n",
    "# 6. Feature Engineering\n",
    "def feature_engineering(X_train, y_train, X_val=None):\n",
    "    def datatime(df):\n",
    "        df['date'] = pd.to_datetime(df['date'])\n",
    "        df['year'] = df['date'].dt.year\n",
    "        df['month'] = df['date'].dt.month\n",
    "        df['day'] = df['date'].dt.day\n",
    "        return df\n",
    "    X_train = datatime(X_train.copy())\n",
    "    if X_val is not None:\n",
    "        X_val = datatime(X_val.copy())\n",
    "        return X_train, y_train, X_val\n",
    "    else:\n",
    "        return X_train, y_train\n",
    "\n",
    "# 7. Feature Selection and Dimensionality Reduction\n",
    "def feature_selection(X_train, y_train, X_val=None):\n",
    "    selected_columns = X_train.columns.drop(['date'])\n",
    "    if X_val is not None:\n",
    "        return X_train[selected_columns], X_val[selected_columns]\n",
    "    else:\n",
    "        return X_train[selected_columns]"
   ]
  },
  {
   "cell_type": "code",
   "execution_count": 105,
   "id": "6b18081c-17f2-4809-bdf6-7181aac77199",
   "metadata": {},
   "outputs": [],
   "source": [
    "from xgboost import XGBRegressor\n",
    "def evaluate_pipeline(X, y, n_splits=5):\n",
    "\n",
    "    ### call transformations here, if there is no learning and no need to be crossval\n",
    "    X, y = handle_inconsistencies(X, y)\n",
    "    X, y = handle_duplicates(X, y)\n",
    "    X  = handle_missing_values(X, y)\n",
    "    X = handle_categorical(X, y)\n",
    "    X, y = handle_outliers(X, y)\n",
    "    X, y = feature_engineering(X, y)\n",
    "    X = feature_selection(X, y)\n",
    "    \n",
    "    model = XGBRegressor()\n",
    "    \n",
    "    tscv = TimeSeriesSplit(n_splits=n_splits)\n",
    "    \n",
    "    train_scores = []\n",
    "    val_scores = []\n",
    "    \n",
    "    for fold, (train_index, val_index) in enumerate(tscv.split(X)):\n",
    "        print(f\"Processing fold {fold + 1}/{n_splits}...\")\n",
    "        \n",
    "        # Split data into train and validation sets\n",
    "        X_train, X_val = X.iloc[train_index].copy(), X.iloc[val_index].copy()\n",
    "        y_train, y_val = y.iloc[train_index].copy(), y.iloc[val_index].copy()\n",
    "\n",
    "        # ### call transformations here, if there is learning\n",
    "        # # X_train, y_train, X_val = handle_inconsistencies(X_train, y_train, X_val)\n",
    "        # X_train, y_train, X_val = handle_duplicates(X_train, y_train, X_val)\n",
    "        # # X_train, X_val = handle_missing_values(X_train, y_train, X_val)\n",
    "        # X_train, X_val = handle_categorical(X_train, y_train, X_val)\n",
    "        # # X_train, y_train, X_val = handle_outliers(X_train, y_train, X_val)\n",
    "        # X_train, y_train, X_val = feature_engineering(X_train, y_train, X_val)\n",
    "        # # X_train, X_val = feature_selection(X_train, y_train, X_val)\n",
    "        \n",
    "        # Train the model\n",
    "        model.fit(X_train, y_train)\n",
    "        \n",
    "        # Predict on training set\n",
    "        y_train_pred = model.predict(X_train)\n",
    "        train_mse = mean_squared_error(y_train, y_train_pred)\n",
    "        train_scores.append(train_mse)\n",
    "        \n",
    "        # Predict on validation set\n",
    "        y_val_pred = model.predict(X_val)\n",
    "        val_mse = mean_squared_error(y_val, y_val_pred)\n",
    "        val_scores.append(val_mse)\n",
    "        \n",
    "        print(f\"Fold {fold + 1} Train MSE: {train_mse:.4f}, Validation MSE: {val_mse:.4f}\")\n",
    "    \n",
    "    # Compute mean, max, and min values for train and validation MSE\n",
    "    mean_train_mse = np.mean(train_scores)\n",
    "    max_train_mse = np.max(train_scores)\n",
    "    min_train_mse = np.min(train_scores)\n",
    "    \n",
    "    mean_val_mse = np.mean(val_scores)\n",
    "    max_val_mse = np.max(val_scores)\n",
    "    min_val_mse = np.min(val_scores)\n",
    "    \n",
    "    # Print results\n",
    "    print(\"\\nTrain MSE:\")\n",
    "    print(f\"Mean: {mean_train_mse:.4f}, Max: {max_train_mse:.4f}, Min: {min_train_mse:.4f}\")\n",
    "    \n",
    "    print(\"\\nValidation MSE:\")\n",
    "    print(f\"Mean: {mean_val_mse:.4f}, Max: {max_val_mse:.4f}, Min: {min_val_mse:.4f}\")\n",
    "    \n",
    "    return mean_val_mse  # Return mean validation MSE as the overall score"
   ]
  },
  {
   "cell_type": "code",
   "execution_count": 106,
   "id": "b67a4532-14bc-4590-90ed-d39044dfc6fc",
   "metadata": {},
   "outputs": [
    {
     "name": "stdout",
     "output_type": "stream",
     "text": [
      "Processing fold 1/5...\n",
      "Fold 1 Train MSE: 0.0017, Validation MSE: 526.0216\n",
      "Processing fold 2/5...\n",
      "Fold 2 Train MSE: 0.0937, Validation MSE: 467.0407\n",
      "Processing fold 3/5...\n",
      "Fold 3 Train MSE: 0.6165, Validation MSE: 579.9952\n",
      "Processing fold 4/5...\n",
      "Fold 4 Train MSE: 2.1512, Validation MSE: 443.3590\n",
      "Processing fold 5/5...\n",
      "Fold 5 Train MSE: 4.1229, Validation MSE: 526.9370\n",
      "\n",
      "Train MSE:\n",
      "Mean: 1.3972, Max: 4.1229, Min: 0.0017\n",
      "\n",
      "Validation MSE:\n",
      "Mean: 508.6707, Max: 579.9952, Min: 443.3590\n"
     ]
    },
    {
     "data": {
      "text/plain": [
       "508.6706792417782"
      ]
     },
     "execution_count": 106,
     "metadata": {},
     "output_type": "execute_result"
    }
   ],
   "source": [
    "# Prepare X and y\n",
    "X = df_train.copy().drop(columns=['electricity_demand'], axis=1)\n",
    "y = df_train.copy().pop('electricity_demand')\n",
    "\n",
    "# Run the evaluation\n",
    "evaluate_pipeline(X, y)"
   ]
  },
  {
   "cell_type": "markdown",
   "id": "30e27e3b-7641-4107-be8c-50104d473cd9",
   "metadata": {},
   "source": [
    "### Generating Submission File"
   ]
  },
  {
   "cell_type": "code",
   "execution_count": 107,
   "id": "f49733a5-e2f6-4839-8063-2a6f5b2dfc28",
   "metadata": {},
   "outputs": [],
   "source": [
    "# Train and submit your results"
   ]
  },
  {
   "cell_type": "code",
   "execution_count": 108,
   "id": "81488d3e-2dde-4904-ac69-430e55df0cc5",
   "metadata": {},
   "outputs": [],
   "source": [
    "# Prepare X_train and y_train from your data\n",
    "df_train =  pd.read_csv(\"module5_exercise_train.csv\", sep=\",\")\n",
    "\n",
    "X_train = df_train.drop(columns=['electricity_demand'], axis=1)\n",
    "y_train = df_train['electricity_demand']\n",
    "\n",
    "X_test =  pd.read_csv(\"module5_exercise_test.csv\", sep=\",\")"
   ]
  },
  {
   "cell_type": "code",
   "execution_count": 109,
   "id": "7f558b85-7970-4c24-95a8-fd6a37da930b",
   "metadata": {},
   "outputs": [],
   "source": [
    "def train_and_predict_to_submit(X_train, y_train, X_test):\n",
    "    model = LinearRegression()\n",
    "    \n",
    "    X_train, y_train, X_test = handle_inconsistencies(X_train, y_train, X_test)\n",
    "    X_train, y_train, X_test = handle_duplicates(X_train, y_train, X_test)\n",
    "    X_train, X_test = handle_missing_values(X_train, y_train, X_test)\n",
    "    X_train, X_test = handle_categorical(X_train, y_train, X_test)\n",
    "    X_train, y_train, X_test = handle_outliers(X_train, y_train, X_test)\n",
    "    X_train, y_train, X_test = feature_engineering(X_train, y_train, X_test)\n",
    "    X_train, X_test = feature_selection(X_train, y_train, X_test)\n",
    "\n",
    "    # Train the model on the entire training set\n",
    "    print(f\"Training model on entire dataset of shape: {X_train.shape}\")\n",
    "    model.fit(X_train, y_train)\n",
    "    \n",
    "    # Predict on the test set\n",
    "    print(f\"Predicting on test dataset of shape: {X_test.shape}\")\n",
    "    y_test_pred = model.predict(X_test)\n",
    "    \n",
    "    return y_test_pred"
   ]
  },
  {
   "cell_type": "code",
   "execution_count": 110,
   "id": "44a7efc0-16fa-41f9-a8d9-6e90ba3c8bb3",
   "metadata": {},
   "outputs": [
    {
     "name": "stdout",
     "output_type": "stream",
     "text": [
      "Training model on entire dataset of shape: (1819, 20)\n",
      "Predicting on test dataset of shape: (365, 20)\n"
     ]
    }
   ],
   "source": [
    "# Call serve_model to train and predict\n",
    "y_test_pred = train_and_predict_to_submit(X_train, y_train, X_test)"
   ]
  },
  {
   "cell_type": "code",
   "execution_count": 112,
   "id": "538cf936-7872-46ad-b02f-422a0aec3806",
   "metadata": {
    "scrolled": true
   },
   "outputs": [
    {
     "name": "stdout",
     "output_type": "stream",
     "text": [
      "Submission file saved as 'submission.csv'.\n"
     ]
    }
   ],
   "source": [
    "# Generating Submission File\n",
    "submission = pd.DataFrame({\n",
    "    'date': X_test['date'],\n",
    "    'electricity_demand': y_test_pred\n",
    "})\n",
    "\n",
    "# Save the submission file\n",
    "submission.to_csv('submission.csv', index=False, sep=',')\n",
    "print(\"Submission file saved as 'submission.csv'.\")"
   ]
  }
 ],
 "metadata": {
  "kernelspec": {
   "display_name": "Python 3 (ipykernel)",
   "language": "python",
   "name": "python3"
  },
  "language_info": {
   "codemirror_mode": {
    "name": "ipython",
    "version": 3
   },
   "file_extension": ".py",
   "mimetype": "text/x-python",
   "name": "python",
   "nbconvert_exporter": "python",
   "pygments_lexer": "ipython3",
   "version": "3.9.13"
  }
 },
 "nbformat": 4,
 "nbformat_minor": 5
}
