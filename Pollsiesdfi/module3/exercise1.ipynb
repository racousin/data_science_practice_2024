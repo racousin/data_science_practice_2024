{
 "cells": [
  {
   "cell_type": "code",
   "execution_count": 1,
   "id": "661d2a88-2408-4ac1-bdfc-41f321a7a002",
   "metadata": {},
   "outputs": [],
   "source": [
    "import pandas as pd"
   ]
  },
  {
   "cell_type": "code",
   "execution_count": 2,
   "id": "603bc232-f119-4fb4-beda-fdcbb0331a1c",
   "metadata": {},
   "outputs": [
    {
     "name": "stdout",
     "output_type": "stream",
     "text": [
      "Downloaded module3_exercise_train.csv from https://www.raphaelcousin.com/modules/module3/exercise/module3_exercise_train.csv\n",
      "Downloaded module3_exercise_test.csv from https://www.raphaelcousin.com/modules/module3/exercise/module3_exercise_test.csv\n"
     ]
    }
   ],
   "source": [
    "import requests\n",
    "\n",
    "# URLs of the files\n",
    "train_data_url = 'https://www.raphaelcousin.com/modules/module3/exercise/module3_exercise_train.csv'\n",
    "test_data_url = 'https://www.raphaelcousin.com/modules/module3/exercise/module3_exercise_test.csv'\n",
    "\n",
    "# Function to download a file\n",
    "def download_file(url, file_name):\n",
    "    response = requests.get(url)\n",
    "    response.raise_for_status()  # Ensure we notice bad responses\n",
    "    with open(file_name, 'wb') as file:\n",
    "        file.write(response.content)\n",
    "    print(f'Downloaded {file_name} from {url}')\n",
    "\n",
    "# Downloading the files\n",
    "download_file(train_data_url, 'module3_exercise_train.csv')\n",
    "download_file(test_data_url, 'module3_exercise_test.csv')"
   ]
  },
  {
   "cell_type": "code",
   "execution_count": 13,
   "id": "768deb45-08be-4b56-bf8c-5162928d139b",
   "metadata": {},
   "outputs": [],
   "source": [
    "df_train =  pd.read_csv(\"module3_exercise_train.csv\", sep=\",\", index_col='id')\n",
    "df_tt = pd.read_csv(\"module3_exercise_test.csv\", sep=\",\", index_col='id')"
   ]
  },
  {
   "cell_type": "code",
   "execution_count": 21,
   "id": "744a2da0-2d62-4dbe-bfd9-d662ac545bec",
   "metadata": {},
   "outputs": [],
   "source": [
    "df = df_train\n",
    "df1 = df_tt"
   ]
  },
  {
   "cell_type": "code",
   "execution_count": 10,
   "id": "21b65f54-e2c9-41cf-8b4a-529828b768f9",
   "metadata": {},
   "outputs": [
    {
     "name": "stderr",
     "output_type": "stream",
     "text": [
      "C:\\Users\\qqhao\\AppData\\Local\\Temp\\ipykernel_46232\\175976910.py:9: FutureWarning: A value is trying to be set on a copy of a DataFrame or Series through chained assignment using an inplace method.\n",
      "The behavior will change in pandas 3.0. This inplace method will never work because the intermediate object on which we are setting values always behaves as a copy.\n",
      "\n",
      "For example, when doing 'df[col].method(value, inplace=True)', try using 'df.method({col: value}, inplace=True)' or df[col] = df[col].method(value) instead, to perform the operation inplace on the original object.\n",
      "\n",
      "\n",
      "  df['GarageCars'].fillna(0, inplace=True)\n"
     ]
    }
   ],
   "source": [
    "df['GarageCars'] = df['GarageCars'].replace({\n",
    "    'zero': 0,\n",
    "    'one': 1,\n",
    "    'two': 2,\n",
    "    'three': 3,\n",
    "    'four': 4\n",
    "})\n",
    "\n",
    "df['GarageCars'].fillna(0, inplace=True)\n",
    "\n",
    "df['GarageCars'] = df['GarageCars'].astype('int64')"
   ]
  },
  {
   "cell_type": "code",
   "execution_count": 17,
   "id": "82d5fd3e-9520-446a-b104-dca6a45e79ac",
   "metadata": {},
   "outputs": [
    {
     "name": "stdout",
     "output_type": "stream",
     "text": [
      "MAE: 33803.2688084363\n"
     ]
    }
   ],
   "source": [
    "import pandas as pd\n",
    "from sklearn.linear_model import LinearRegression\n",
    "from sklearn.model_selection import train_test_split\n",
    "from sklearn.metrics import mean_absolute_error\n",
    "\n",
    "df_train_sorted = df_train.sort_index()\n",
    "\n",
    "Y = df_sorted['SalePrice']\n",
    "\n",
    "X = df_sorted.drop(columns=['SalePrice'])\n",
    "\n",
    "X.fillna(X.mean(), inplace=True)\n",
    "\n",
    "X_train, X_test, Y_train, Y_test = train_test_split(X, Y, test_size=0.2, random_state=42)\n",
    "\n",
    "model = LinearRegression()\n",
    "\n",
    "model.fit(X_train, Y_train)\n",
    "\n",
    "Y_pred = model.predict(X_test)\n",
    "\n",
    "mae = mean_absolute_error(Y_test, Y_pred)\n",
    "print(f'MAE: {mae}')"
   ]
  },
  {
   "cell_type": "code",
   "execution_count": 23,
   "id": "ce0a9a43-fc8a-4d45-a3e1-28163776847d",
   "metadata": {},
   "outputs": [
    {
     "name": "stderr",
     "output_type": "stream",
     "text": [
      "C:\\Users\\qqhao\\AppData\\Local\\Temp\\ipykernel_46232\\3506204310.py:10: FutureWarning: A value is trying to be set on a copy of a DataFrame or Series through chained assignment using an inplace method.\n",
      "The behavior will change in pandas 3.0. This inplace method will never work because the intermediate object on which we are setting values always behaves as a copy.\n",
      "\n",
      "For example, when doing 'df[col].method(value, inplace=True)', try using 'df.method({col: value}, inplace=True)' or df[col] = df[col].method(value) instead, to perform the operation inplace on the original object.\n",
      "\n",
      "\n",
      "  df1['GarageCars'].fillna(0, inplace=True)\n"
     ]
    }
   ],
   "source": [
    "df1['GarageCars'] = df1['GarageCars'].replace({\n",
    "    'zero': 0,\n",
    "    'one': 1,\n",
    "    'two': 2,\n",
    "    'three': 3,\n",
    "    'four': 4\n",
    "})\n",
    "df1['GarageCars'] = df1['GarageCars'].astype('int64')\n",
    "\n",
    "df1['GarageCars'].fillna(0, inplace=True)\n",
    "\n",
    "df1.fillna(df1.mean(), inplace=True)\n",
    "Y_pr = model.predict(df1)\n",
    "pd.DataFrame(Y_pr, columns=['Y_tt']).to_csv('submission.csv', index=True)"
   ]
  },
  {
   "cell_type": "code",
   "execution_count": null,
   "id": "72079da6-5d06-4736-911f-15f547fc4b69",
   "metadata": {},
   "outputs": [],
   "source": []
  }
 ],
 "metadata": {
  "kernelspec": {
   "display_name": "Python 3 (ipykernel)",
   "language": "python",
   "name": "python3"
  },
  "language_info": {
   "codemirror_mode": {
    "name": "ipython",
    "version": 3
   },
   "file_extension": ".py",
   "mimetype": "text/x-python",
   "name": "python",
   "nbconvert_exporter": "python",
   "pygments_lexer": "ipython3",
   "version": "3.12.4"
  }
 },
 "nbformat": 4,
 "nbformat_minor": 5
}
