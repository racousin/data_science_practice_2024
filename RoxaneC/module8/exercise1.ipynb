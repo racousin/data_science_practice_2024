{
  "cells": [
    {
      "cell_type": "code",
      "execution_count": 1,
      "id": "ad6db548-ee6a-4a31-8aae-eb014e45806c",
      "metadata": {
        "id": "ad6db548-ee6a-4a31-8aae-eb014e45806c"
      },
      "outputs": [],
      "source": [
        "# Deep Learning Fundamentals: MNIST Case Study\n",
        "import torch\n",
        "import torch.nn as nn\n",
        "import torch.optim as optim\n",
        "from torch.utils.data import DataLoader\n",
        "import matplotlib.pyplot as plt\n",
        "import numpy as np\n",
        "from sklearn.metrics import confusion_matrix\n",
        "import seaborn as sns\n",
        "import pandas as pd"
      ]
    },
    {
      "cell_type": "markdown",
      "id": "9e83ffc7-885b-4470-904f-b1015355ccee",
      "metadata": {
        "id": "9e83ffc7-885b-4470-904f-b1015355ccee"
      },
      "source": [
        "### Data Collection"
      ]
    },
    {
      "cell_type": "code",
      "execution_count": 2,
      "id": "4529f06b-2df5-42b9-8038-6ad5253ce57f",
      "metadata": {
        "id": "4529f06b-2df5-42b9-8038-6ad5253ce57f",
        "colab": {
          "base_uri": "https://localhost:8080/"
        },
        "outputId": "c0cce40b-f3bc-4f64-e3bf-d85165c686ee"
      },
      "outputs": [
        {
          "output_type": "stream",
          "name": "stdout",
          "text": [
            "Downloaded X_train.pth from https://www.raphaelcousin.com/modules/module8/exercise/X_train.pth\n",
            "Downloaded y_train.pth from https://www.raphaelcousin.com/modules/module8/exercise/y_train.pth\n",
            "Downloaded X_test.pth from https://www.raphaelcousin.com/modules/module8/exercise/X_test.pth\n"
          ]
        }
      ],
      "source": [
        "import requests\n",
        "\n",
        "# URLs of the files\n",
        "data_train_features_url = 'https://www.raphaelcousin.com/modules/module8/exercise/X_train.pth'\n",
        "data_train_labels_url = 'https://www.raphaelcousin.com/modules/module8/exercise/y_train.pth'\n",
        "data_test_features_url = 'https://www.raphaelcousin.com/modules/module8/exercise/X_test.pth'\n",
        "#data_test_labels_url = 'https://www.raphaelcousin.com/modules/module8/exercise/y_test.pth'\n",
        "\n",
        "# Function to download a file\n",
        "def download_file(url, file_name):\n",
        "    response = requests.get(url)\n",
        "    response.raise_for_status()  # Ensure we notice bad responses\n",
        "    with open(file_name, 'wb') as file:\n",
        "        file.write(response.content)\n",
        "    print(f'Downloaded {file_name} from {url}')\n",
        "\n",
        "# Downloading the files\n",
        "download_file(data_train_features_url, 'X_train.pth')\n",
        "download_file(data_train_labels_url, 'y_train.pth')\n",
        "download_file(data_test_features_url, 'X_test.pth')\n",
        "#download_file(data_test_labels_url, 'y_test.pth')"
      ]
    },
    {
      "cell_type": "code",
      "execution_count": 3,
      "id": "41047ae2-d886-4d6d-9ebe-ce527da3b82d",
      "metadata": {
        "id": "41047ae2-d886-4d6d-9ebe-ce527da3b82d",
        "colab": {
          "base_uri": "https://localhost:8080/"
        },
        "outputId": "46b844ed-0b01-434e-ac3a-3fa198f79531"
      },
      "outputs": [
        {
          "output_type": "stream",
          "name": "stderr",
          "text": [
            "<ipython-input-3-c61a4efb9fad>:2: FutureWarning: You are using `torch.load` with `weights_only=False` (the current default value), which uses the default pickle module implicitly. It is possible to construct malicious pickle data which will execute arbitrary code during unpickling (See https://github.com/pytorch/pytorch/blob/main/SECURITY.md#untrusted-models for more details). In a future release, the default value for `weights_only` will be flipped to `True`. This limits the functions that could be executed during unpickling. Arbitrary objects will no longer be allowed to be loaded via this mode unless they are explicitly allowlisted by the user via `torch.serialization.add_safe_globals`. We recommend you start setting `weights_only=True` for any use case where you don't have full control of the loaded file. Please open an issue on GitHub for any issues related to this experimental feature.\n",
            "  X_train = torch.load('X_train.pth')\n"
          ]
        },
        {
          "output_type": "stream",
          "name": "stdout",
          "text": [
            "Dataset shapes:\n",
            "X_train: torch.Size([50000, 3, 32, 32])\n",
            "y_train: torch.Size([50000])\n",
            "X_test: torch.Size([10000, 3, 32, 32])\n",
            "\n",
            "First image shape: torch.Size([3, 32, 32])\n",
            "First image label: 6\n"
          ]
        },
        {
          "output_type": "stream",
          "name": "stderr",
          "text": [
            "<ipython-input-3-c61a4efb9fad>:3: FutureWarning: You are using `torch.load` with `weights_only=False` (the current default value), which uses the default pickle module implicitly. It is possible to construct malicious pickle data which will execute arbitrary code during unpickling (See https://github.com/pytorch/pytorch/blob/main/SECURITY.md#untrusted-models for more details). In a future release, the default value for `weights_only` will be flipped to `True`. This limits the functions that could be executed during unpickling. Arbitrary objects will no longer be allowed to be loaded via this mode unless they are explicitly allowlisted by the user via `torch.serialization.add_safe_globals`. We recommend you start setting `weights_only=True` for any use case where you don't have full control of the loaded file. Please open an issue on GitHub for any issues related to this experimental feature.\n",
            "  y_train = torch.load('y_train.pth')\n",
            "<ipython-input-3-c61a4efb9fad>:4: FutureWarning: You are using `torch.load` with `weights_only=False` (the current default value), which uses the default pickle module implicitly. It is possible to construct malicious pickle data which will execute arbitrary code during unpickling (See https://github.com/pytorch/pytorch/blob/main/SECURITY.md#untrusted-models for more details). In a future release, the default value for `weights_only` will be flipped to `True`. This limits the functions that could be executed during unpickling. Arbitrary objects will no longer be allowed to be loaded via this mode unless they are explicitly allowlisted by the user via `torch.serialization.add_safe_globals`. We recommend you start setting `weights_only=True` for any use case where you don't have full control of the loaded file. Please open an issue on GitHub for any issues related to this experimental feature.\n",
            "  X_test = torch.load('X_test.pth')\n"
          ]
        }
      ],
      "source": [
        "# Load the saved tensors\n",
        "X_train = torch.load('X_train.pth')\n",
        "y_train = torch.load('y_train.pth')\n",
        "X_test = torch.load('X_test.pth')\n",
        "#y_test = torch.load('y_test.pth')\n",
        "\n",
        "# Print shapes to verify the data\n",
        "print(\"Dataset shapes:\")\n",
        "print(f\"X_train: {X_train.shape}\")  # Should be torch.Size([50000, 3, 32, 32])\n",
        "print(f\"y_train: {y_train.shape}\")  # Should be torch.Size([50000])\n",
        "print(f\"X_test: {X_test.shape}\")    # Should be torch.Size([10000, 3, 32, 32])\n",
        "#print(f\"y_test: {y_test.shape}\")    # Should be torch.Size([10000])\n",
        "\n",
        "# Example: access the first image and its label\n",
        "first_image = X_train[0]\n",
        "first_label = y_train[0]\n",
        "\n",
        "print(f\"\\nFirst image shape: {first_image.shape}\")  # Should be torch.Size([3, 32, 32])\n",
        "print(f\"First image label: {first_label}\")         # Should be a number between 0-9"
      ]
    },
    {
      "cell_type": "markdown",
      "id": "a6ca6340-b643-47db-85e0-3df691319232",
      "metadata": {
        "id": "a6ca6340-b643-47db-85e0-3df691319232"
      },
      "source": [
        "### Data Analysis"
      ]
    },
    {
      "cell_type": "code",
      "execution_count": 4,
      "id": "42567510-e5d1-41bb-8aa3-149fb123fab9",
      "metadata": {
        "id": "42567510-e5d1-41bb-8aa3-149fb123fab9",
        "colab": {
          "base_uri": "https://localhost:8080/"
        },
        "outputId": "ca16d28c-9f5a-4e95-aef4-6cb4c9010e98"
      },
      "outputs": [
        {
          "output_type": "execute_result",
          "data": {
            "text/plain": [
              "torch.Size([50000, 3, 32, 32])"
            ]
          },
          "metadata": {},
          "execution_count": 4
        }
      ],
      "source": [
        "X_train.shape"
      ]
    },
    {
      "cell_type": "code",
      "execution_count": 5,
      "id": "7d72a598-dab8-4e6f-841a-5808c98953d3",
      "metadata": {
        "id": "7d72a598-dab8-4e6f-841a-5808c98953d3",
        "colab": {
          "base_uri": "https://localhost:8080/"
        },
        "outputId": "d4b573d4-0bab-4930-8cec-8b2cc4b07c52"
      },
      "outputs": [
        {
          "output_type": "execute_result",
          "data": {
            "text/plain": [
              "torch.Size([50000])"
            ]
          },
          "metadata": {},
          "execution_count": 5
        }
      ],
      "source": [
        "y_train.shape"
      ]
    },
    {
      "cell_type": "code",
      "execution_count": 6,
      "id": "0f48d4fd-1964-4796-8143-fdc292655497",
      "metadata": {
        "id": "0f48d4fd-1964-4796-8143-fdc292655497"
      },
      "outputs": [],
      "source": [
        "def plot_images(X, y, num_examples=5, figsize=(15, 3)):\n",
        "    # Create figure\n",
        "    fig, axes = plt.subplots(1, num_examples, figsize=figsize)\n",
        "\n",
        "    # Ensure axes is always a numpy array\n",
        "    if num_examples == 1:\n",
        "        axes = np.array([axes])\n",
        "\n",
        "    # Plot each example\n",
        "    for i in range(num_examples):\n",
        "        # Get the image\n",
        "        img = np.array(X[i]).astype(int)\n",
        "\n",
        "        # If the image has 3 dimensions, transpose it to (height, width, channels)\n",
        "        if img.ndim == 3 and img.shape[0] == 3:  # Shape is (3, height, width)\n",
        "            img = np.transpose(img, (1, 2, 0))  # Convert to (height, width, channels)\n",
        "\n",
        "        # Plot the image\n",
        "        axes[i].imshow(img)\n",
        "        axes[i].set_title(f'Label: {y[i]}')\n",
        "        axes[i].axis('off')\n",
        "\n",
        "    plt.tight_layout()\n",
        "    return fig"
      ]
    },
    {
      "cell_type": "code",
      "execution_count": 7,
      "id": "5954fff0-7a27-4ccd-83d0-8b001ad96035",
      "metadata": {
        "id": "5954fff0-7a27-4ccd-83d0-8b001ad96035",
        "colab": {
          "base_uri": "https://localhost:8080/",
          "height": 192
        },
        "outputId": "63c5a32d-0f60-4873-93e1-e143e6b54878"
      },
      "outputs": [
        {
          "output_type": "display_data",
          "data": {
            "text/plain": [
              "<Figure size 1500x300 with 10 Axes>"
            ],
            "image/png": "[encoded data removed]"
          },
          "metadata": {}
        }
      ],
      "source": [
        "# Plot some examples\n",
        "fig = plot_images(X_train, y_train, num_examples=10)\n",
        "plt.show()"
      ]
    },
    {
      "cell_type": "markdown",
      "id": "d4011c61-79e4-4c5e-8dd5-e8053e4066c6",
      "metadata": {
        "id": "d4011c61-79e4-4c5e-8dd5-e8053e4066c6"
      },
      "source": [
        "### Data Preprocessing\n",
        "Scale, split the data and create dataLoaders"
      ]
    },
    {
      "cell_type": "code",
      "source": [
        "from torch.utils.data import TensorDataset, Dataset, DataLoader, random_split\n",
        "from sklearn.preprocessing import StandardScaler\n",
        "from sklearn.model_selection import train_test_split"
      ],
      "metadata": {
        "id": "CNf2gQbVz842"
      },
      "id": "CNf2gQbVz842",
      "execution_count": 8,
      "outputs": []
    },
    {
      "cell_type": "code",
      "source": [
        "def preprocess_data(X, y, batch_size=32, train_size=0.7, val_size=0.15, random_state=42):\n",
        "    # Scale features\n",
        "    num_samples, nb_layers, height, width = X.shape\n",
        "    X_reshaped = X.reshape(num_samples, -1)  # Flatten for scaling\n",
        "    scaler = StandardScaler()\n",
        "    X_scaled_flat = scaler.fit_transform(X_reshaped)  # Scale features\n",
        "    X_scaled = X_scaled_flat.reshape(num_samples, nb_layers, height, width)  # Reshape with channel dimension\n",
        "\n",
        "    # Split data into train+val and test\n",
        "    test_size = 1 - train_size - val_size\n",
        "    X_trainval, X_test, y_trainval, y_test = train_test_split(\n",
        "        X_scaled, y, test_size=test_size,\n",
        "        random_state=random_state, stratify=y\n",
        "    )\n",
        "\n",
        "    # Split train+val into train and val\n",
        "    X_train, X_val, y_train, y_val = train_test_split(\n",
        "        X_trainval, y_trainval,\n",
        "        test_size=val_size/(train_size + val_size),\n",
        "        random_state=random_state, stratify=y_trainval\n",
        "    )\n",
        "\n",
        "    # Convert to tensors and create dataloaders\n",
        "    loaders = {\n",
        "        'train': DataLoader(\n",
        "            TensorDataset(torch.FloatTensor(X_train), torch.LongTensor(y_train)),\n",
        "            batch_size=batch_size, shuffle=True\n",
        "        ),\n",
        "        'val': DataLoader(\n",
        "            TensorDataset(torch.FloatTensor(X_val), torch.LongTensor(y_val)),\n",
        "            batch_size=batch_size\n",
        "        ),\n",
        "        'test': DataLoader(\n",
        "            TensorDataset(torch.FloatTensor(X_test), torch.LongTensor(y_test)),\n",
        "            batch_size=batch_size\n",
        "        )\n",
        "    }\n",
        "\n",
        "    return loaders['train'], loaders['val'], loaders['test'], scaler"
      ],
      "metadata": {
        "id": "BhcGuyOtz4e9"
      },
      "id": "BhcGuyOtz4e9",
      "execution_count": 9,
      "outputs": []
    },
    {
      "cell_type": "code",
      "source": [
        "train_loader, val_loader, test_loader, scaler = preprocess_data(X_train, y_train)"
      ],
      "metadata": {
        "id": "KltAonyF0HLJ"
      },
      "id": "KltAonyF0HLJ",
      "execution_count": 10,
      "outputs": []
    },
    {
      "cell_type": "markdown",
      "id": "ff035d78-4d48-4350-b454-8a739ba0d07f",
      "metadata": {
        "id": "ff035d78-4d48-4350-b454-8a739ba0d07f"
      },
      "source": [
        "### Model\n",
        "Create a simple model with right input output and define criterion and criterion/loss"
      ]
    },
    {
      "cell_type": "code",
      "execution_count": 11,
      "id": "96f2bc76-ae97-49e8-9e25-1d8b4aed78d0",
      "metadata": {
        "id": "96f2bc76-ae97-49e8-9e25-1d8b4aed78d0"
      },
      "outputs": [],
      "source": [
        "from torch.optim.lr_scheduler import ReduceLROnPlateau"
      ]
    },
    {
      "cell_type": "code",
      "source": [
        "np.unique(y_train)"
      ],
      "metadata": {
        "colab": {
          "base_uri": "https://localhost:8080/"
        },
        "id": "dmUfjWA81kBZ",
        "outputId": "a307a395-47fd-4a4d-8bd9-8c1034b0d644"
      },
      "id": "dmUfjWA81kBZ",
      "execution_count": 12,
      "outputs": [
        {
          "output_type": "execute_result",
          "data": {
            "text/plain": [
              "array([0, 1, 2, 3, 4, 5, 6, 7, 8, 9])"
            ]
          },
          "metadata": {},
          "execution_count": 12
        }
      ]
    },
    {
      "cell_type": "code",
      "source": [
        "class ConvNet(nn.Module):\n",
        "    def __init__(self):\n",
        "        super(ConvNet, self).__init__()\n",
        "\n",
        "        # First convolutional block\n",
        "        self.conv1 = nn.Sequential(\n",
        "            nn.Conv2d(3, 32, kernel_size=3, padding=1),\n",
        "            nn.ReLU(),\n",
        "            nn.BatchNorm2d(32),\n",
        "            nn.MaxPool2d(2),\n",
        "            nn.Dropout2d(0.25)\n",
        "        )\n",
        "\n",
        "        # Second convolutional block\n",
        "        self.conv2 = nn.Sequential(\n",
        "            nn.Conv2d(32, 64, kernel_size=3, padding=1),\n",
        "            nn.ReLU(),\n",
        "            nn.BatchNorm2d(64),\n",
        "            nn.MaxPool2d(2),\n",
        "            nn.Dropout2d(0.25)\n",
        "        )\n",
        "\n",
        "        # Third convolutional block\n",
        "        self.conv3 = nn.Sequential(\n",
        "            nn.Conv2d(64, 128, kernel_size=3, padding=1),\n",
        "            nn.ReLU(),\n",
        "            nn.BatchNorm2d(128),\n",
        "            nn.MaxPool2d(2),\n",
        "            nn.Dropout2d(0.25)\n",
        "        )\n",
        "\n",
        "        # Fully connected layers\n",
        "        self.fc = nn.Sequential(\n",
        "            nn.Linear(128 * 4 * 4, 256),\n",
        "            nn.ReLU(),\n",
        "            nn.BatchNorm1d(256),\n",
        "            nn.Dropout(0.5),\n",
        "            nn.Linear(256, 10)\n",
        "        )\n",
        "\n",
        "    def forward(self, x):\n",
        "        # Input shape: [batch, 3, 32, 32]\n",
        "        x = self.conv1(x)        # -> [batch, 32, 14, 14]\n",
        "        x = self.conv2(x)        # -> [batch, 64, 7, 7]\n",
        "        x = self.conv3(x)        # -> [batch, 128, 4, 4]\n",
        "        x = x.view(-1, 128 * 4 * 4)\n",
        "        x = self.fc(x)          # -> [batch, 10]\n",
        "        return x\n",
        "\n",
        "def create_model(device):\n",
        "    # Create model instance\n",
        "    model = ConvNet().to(device)\n",
        "\n",
        "    # Define loss function\n",
        "    criterion = nn.CrossEntropyLoss().to(device)\n",
        "\n",
        "    # Define optimizer with improved parameters\n",
        "    optimizer = torch.optim.AdamW(\n",
        "        model.parameters(),\n",
        "        lr=0.001,\n",
        "        weight_decay=0.01,\n",
        "        betas=(0.9, 0.999)\n",
        "    )\n",
        "\n",
        "    # Learning rate scheduler\n",
        "    scheduler = ReduceLROnPlateau(\n",
        "        optimizer,\n",
        "        mode='min',\n",
        "        factor=0.5,\n",
        "        patience=3,\n",
        "        verbose=True,\n",
        "        min_lr=1e-6\n",
        "    )\n",
        "\n",
        "    return model, criterion, optimizer, scheduler"
      ],
      "metadata": {
        "id": "EYHg0zPz1A-z"
      },
      "id": "EYHg0zPz1A-z",
      "execution_count": 13,
      "outputs": []
    },
    {
      "cell_type": "markdown",
      "id": "8e81ce88-118f-43bf-b7ad-94022be495ef",
      "metadata": {
        "id": "8e81ce88-118f-43bf-b7ad-94022be495ef"
      },
      "source": [
        "### Train\n",
        "Create a loop to train your model"
      ]
    },
    {
      "cell_type": "code",
      "source": [
        "from time import time\n",
        "from collections import defaultdict"
      ],
      "metadata": {
        "id": "rp-nWnEl11-c"
      },
      "id": "rp-nWnEl11-c",
      "execution_count": 14,
      "outputs": []
    },
    {
      "cell_type": "code",
      "execution_count": 15,
      "id": "41e5ee84-736e-4163-8276-53c8e0de752b",
      "metadata": {
        "id": "41e5ee84-736e-4163-8276-53c8e0de752b"
      },
      "outputs": [],
      "source": [
        "class EarlyStopping:\n",
        "    def __init__(self, patience=7, min_delta=0, path='checkpoint.pt'):\n",
        "        self.patience = patience\n",
        "        self.min_delta = min_delta\n",
        "        self.path = path\n",
        "        self.counter = 0\n",
        "        self.best_loss = None\n",
        "        self.early_stop = False\n",
        "        self.val_loss_min = np.inf\n",
        "\n",
        "    def __call__(self, val_loss, model):\n",
        "        if self.best_loss is None:\n",
        "            self.best_loss = val_loss\n",
        "            self.save_checkpoint(val_loss, model)\n",
        "        elif val_loss > self.best_loss + self.min_delta:\n",
        "            self.counter += 1\n",
        "            print(f'EarlyStopping counter: {self.counter} out of {self.patience}')\n",
        "            if self.counter >= self.patience:\n",
        "                self.early_stop = True\n",
        "        else:\n",
        "            self.best_loss = val_loss\n",
        "            self.save_checkpoint(val_loss, model)\n",
        "            self.counter = 0\n",
        "\n",
        "    def save_checkpoint(self, val_loss, model):\n",
        "        print(f'Validation loss decreased ({self.val_loss_min:.6f} --> {val_loss:.6f}). Saving model ...')\n",
        "        torch.save(model.state_dict(), self.path)\n",
        "        self.val_loss_min = val_loss\n",
        "\n",
        "def train_epoch(model, loader, criterion, optimizer, device, is_training=True):\n",
        "    \"\"\"Run one epoch of training or validation.\"\"\"\n",
        "    model.train() if is_training else model.eval()\n",
        "    total_loss = 0.0\n",
        "    correct = 0\n",
        "    total = 0\n",
        "\n",
        "    context = torch.enable_grad() if is_training else torch.no_grad()\n",
        "    with context:\n",
        "        for data, target in loader:\n",
        "            data, target = data.to(device), target.to(device)\n",
        "\n",
        "            if is_training:\n",
        "                optimizer.zero_grad()\n",
        "\n",
        "            output = model(data)\n",
        "            loss = criterion(output, target)\n",
        "\n",
        "            if is_training:\n",
        "                loss.backward()\n",
        "                optimizer.step()\n",
        "\n",
        "            total_loss += loss.item()\n",
        "            _, predicted = output.max(1)\n",
        "            total += target.size(0)\n",
        "            correct += predicted.eq(target).sum().item()\n",
        "\n",
        "    avg_loss = total_loss / len(loader)\n",
        "    accuracy = 100. * correct / total\n",
        "    return avg_loss, accuracy\n",
        "\n",
        "def train_model(model, train_loader, val_loader, criterion, optimizer, scheduler,\n",
        "                device, num_epochs=100, patience=7, checkpoint_path='best_model.pt'):\n",
        "    \"\"\"Train a model with early stopping and checkpointing.\"\"\"\n",
        "    early_stopping = EarlyStopping(patience=patience, path=checkpoint_path)\n",
        "    history = defaultdict(list)\n",
        "    best_acc = 0.0\n",
        "    start_time = time()\n",
        "\n",
        "    print(\"Training started...\")\n",
        "    for epoch in range(num_epochs):\n",
        "        epoch_start = time()\n",
        "\n",
        "        # Training phase\n",
        "        train_loss, train_acc = train_epoch(\n",
        "            model, train_loader, criterion, optimizer, device, is_training=True\n",
        "        )\n",
        "\n",
        "        # Validation phase\n",
        "        val_loss, val_acc = train_epoch(\n",
        "            model, val_loader, criterion, optimizer, device, is_training=False\n",
        "        )\n",
        "\n",
        "        scheduler.step(val_loss)\n",
        "\n",
        "        # Save metrics\n",
        "        history['train_loss'].append(train_loss)\n",
        "        history['train_acc'].append(train_acc)\n",
        "        history['val_loss'].append(val_loss)\n",
        "        history['val_acc'].append(val_acc)\n",
        "        history['lr'].append(optimizer.param_groups[0]['lr'])\n",
        "\n",
        "        # Print epoch results\n",
        "        print(f\"\\nEpoch {epoch+1}/{num_epochs} - Time: {time() - epoch_start:.2f}s\")\n",
        "        print(f\"Train Loss: {train_loss:.4f} - Train Acc: {train_acc:.2f}%\")\n",
        "        print(f\"Val Loss: {val_loss:.4f} - Val Acc: {val_acc:.2f}%\")\n",
        "        print(f\"Learning Rate: {optimizer.param_groups[0]['lr']:.6f}\")\n",
        "        print(\"-\" * 60)\n",
        "\n",
        "        # Early stopping check\n",
        "        early_stopping(val_loss, model)\n",
        "        if early_stopping.early_stop:\n",
        "            print(\"Early stopping triggered\")\n",
        "            break\n",
        "\n",
        "        # Save best model\n",
        "        if val_acc > best_acc:\n",
        "            best_acc = val_acc\n",
        "            torch.save({\n",
        "                'epoch': epoch,\n",
        "                'model_state_dict': model.state_dict(),\n",
        "                'optimizer_state_dict': optimizer.state_dict(),\n",
        "                'train_loss': train_loss,\n",
        "                'val_loss': val_loss,\n",
        "                'train_acc': train_acc,\n",
        "                'val_acc': val_acc,\n",
        "            }, 'best_acc_model.pt')\n",
        "\n",
        "    total_time = time() - start_time\n",
        "    print(f\"\\nTraining completed in {total_time:.2f} seconds\")\n",
        "    print(f\"Best validation accuracy: {best_acc:.2f}%\")\n",
        "\n",
        "    return history"
      ]
    },
    {
      "cell_type": "code",
      "execution_count": 16,
      "id": "61fd0af9-6a7b-4c82-88d5-c99e9dcddd0b",
      "metadata": {
        "id": "61fd0af9-6a7b-4c82-88d5-c99e9dcddd0b",
        "colab": {
          "base_uri": "https://localhost:8080/"
        },
        "outputId": "f18077a3-51d1-4f21-d0ed-8ff1a72b3ad0"
      },
      "outputs": [
        {
          "output_type": "stream",
          "name": "stderr",
          "text": [
            "/usr/local/lib/python3.10/dist-packages/torch/optim/lr_scheduler.py:62: UserWarning: The verbose parameter is deprecated. Please use get_last_lr() to access the learning rate.\n",
            "  warnings.warn(\n"
          ]
        },
        {
          "output_type": "stream",
          "name": "stdout",
          "text": [
            "Training started...\n",
            "\n",
            "Epoch 1/15 - Time: 106.85s\n",
            "Train Loss: 1.5638 - Train Acc: 43.89%\n",
            "Val Loss: 1.1609 - Val Acc: 58.20%\n",
            "Learning Rate: 0.001000\n",
            "------------------------------------------------------------\n",
            "Validation loss decreased (inf --> 1.160896). Saving model ...\n",
            "\n",
            "Epoch 2/15 - Time: 106.24s\n",
            "Train Loss: 1.2755 - Train Acc: 54.54%\n",
            "Val Loss: 1.0090 - Val Acc: 64.07%\n",
            "Learning Rate: 0.001000\n",
            "------------------------------------------------------------\n",
            "Validation loss decreased (1.160896 --> 1.009026). Saving model ...\n",
            "\n",
            "Epoch 3/15 - Time: 108.09s\n",
            "Train Loss: 1.1429 - Train Acc: 59.66%\n",
            "Val Loss: 0.9205 - Val Acc: 67.61%\n",
            "Learning Rate: 0.001000\n",
            "------------------------------------------------------------\n",
            "Validation loss decreased (1.009026 --> 0.920501). Saving model ...\n",
            "\n",
            "Epoch 4/15 - Time: 107.61s\n",
            "Train Loss: 1.0465 - Train Acc: 63.45%\n",
            "Val Loss: 0.8331 - Val Acc: 70.79%\n",
            "Learning Rate: 0.001000\n",
            "------------------------------------------------------------\n",
            "Validation loss decreased (0.920501 --> 0.833122). Saving model ...\n",
            "\n",
            "Epoch 5/15 - Time: 107.38s\n",
            "Train Loss: 0.9972 - Train Acc: 65.33%\n",
            "Val Loss: 0.8145 - Val Acc: 71.76%\n",
            "Learning Rate: 0.001000\n",
            "------------------------------------------------------------\n",
            "Validation loss decreased (0.833122 --> 0.814497). Saving model ...\n",
            "\n",
            "Epoch 6/15 - Time: 111.90s\n",
            "Train Loss: 0.9550 - Train Acc: 66.66%\n",
            "Val Loss: 0.7629 - Val Acc: 73.32%\n",
            "Learning Rate: 0.001000\n",
            "------------------------------------------------------------\n",
            "Validation loss decreased (0.814497 --> 0.762892). Saving model ...\n",
            "\n",
            "Epoch 7/15 - Time: 107.47s\n",
            "Train Loss: 0.9053 - Train Acc: 68.70%\n",
            "Val Loss: 0.7450 - Val Acc: 73.95%\n",
            "Learning Rate: 0.001000\n",
            "------------------------------------------------------------\n",
            "Validation loss decreased (0.762892 --> 0.744996). Saving model ...\n",
            "\n",
            "Epoch 8/15 - Time: 106.95s\n",
            "Train Loss: 0.8707 - Train Acc: 69.78%\n",
            "Val Loss: 0.7411 - Val Acc: 73.99%\n",
            "Learning Rate: 0.001000\n",
            "------------------------------------------------------------\n",
            "Validation loss decreased (0.744996 --> 0.741099). Saving model ...\n",
            "\n",
            "Epoch 9/15 - Time: 107.52s\n",
            "Train Loss: 0.8335 - Train Acc: 70.96%\n",
            "Val Loss: 0.7052 - Val Acc: 75.23%\n",
            "Learning Rate: 0.001000\n",
            "------------------------------------------------------------\n",
            "Validation loss decreased (0.741099 --> 0.705241). Saving model ...\n",
            "\n",
            "Epoch 10/15 - Time: 107.90s\n",
            "Train Loss: 0.8091 - Train Acc: 71.72%\n",
            "Val Loss: 0.6865 - Val Acc: 75.71%\n",
            "Learning Rate: 0.001000\n",
            "------------------------------------------------------------\n",
            "Validation loss decreased (0.705241 --> 0.686468). Saving model ...\n",
            "\n",
            "Epoch 11/15 - Time: 107.69s\n",
            "Train Loss: 0.7819 - Train Acc: 72.76%\n",
            "Val Loss: 0.7038 - Val Acc: 75.21%\n",
            "Learning Rate: 0.001000\n",
            "------------------------------------------------------------\n",
            "EarlyStopping counter: 1 out of 7\n",
            "\n",
            "Epoch 12/15 - Time: 111.43s\n",
            "Train Loss: 0.7668 - Train Acc: 73.23%\n",
            "Val Loss: 0.6687 - Val Acc: 77.15%\n",
            "Learning Rate: 0.001000\n",
            "------------------------------------------------------------\n",
            "Validation loss decreased (0.686468 --> 0.668711). Saving model ...\n",
            "\n",
            "Epoch 13/15 - Time: 108.34s\n",
            "Train Loss: 0.7454 - Train Acc: 74.27%\n",
            "Val Loss: 0.6709 - Val Acc: 76.61%\n",
            "Learning Rate: 0.001000\n",
            "------------------------------------------------------------\n",
            "EarlyStopping counter: 1 out of 7\n",
            "\n",
            "Epoch 14/15 - Time: 108.48s\n",
            "Train Loss: 0.7283 - Train Acc: 74.62%\n",
            "Val Loss: 0.6564 - Val Acc: 77.11%\n",
            "Learning Rate: 0.001000\n",
            "------------------------------------------------------------\n",
            "Validation loss decreased (0.668711 --> 0.656389). Saving model ...\n",
            "\n",
            "Epoch 15/15 - Time: 108.28s\n",
            "Train Loss: 0.7124 - Train Acc: 75.21%\n",
            "Val Loss: 0.6424 - Val Acc: 77.59%\n",
            "Learning Rate: 0.001000\n",
            "------------------------------------------------------------\n",
            "Validation loss decreased (0.656389 --> 0.642367). Saving model ...\n",
            "\n",
            "Training completed in 1622.51 seconds\n",
            "Best validation accuracy: 77.59%\n"
          ]
        }
      ],
      "source": [
        "# Set device\n",
        "device = torch.device(\"cuda\" if torch.cuda.is_available() else \"cpu\")\n",
        "\n",
        "# Create model and training components\n",
        "model, criterion, optimizer, scheduler = create_model(device)\n",
        "\n",
        "# Train the model\n",
        "history = train_model(\n",
        "    model=model,\n",
        "    train_loader=train_loader,\n",
        "    val_loader=val_loader,\n",
        "    criterion=criterion,\n",
        "    optimizer=optimizer,\n",
        "    device=device,\n",
        "    scheduler=scheduler,\n",
        "    num_epochs=15,\n",
        "    patience=7\n",
        ")"
      ]
    },
    {
      "cell_type": "code",
      "execution_count": 17,
      "id": "88945c7a-70c4-4ab7-b381-4d0276f94e02",
      "metadata": {
        "id": "88945c7a-70c4-4ab7-b381-4d0276f94e02"
      },
      "outputs": [],
      "source": [
        "def plot_training_history(history):\n",
        "    \"\"\"\n",
        "    Plot training history\n",
        "\n",
        "    Parameters:\n",
        "    -----------\n",
        "    history : dict\n",
        "        Training history containing metrics\n",
        "    \"\"\"\n",
        "    fig, (ax1, ax2) = plt.subplots(2, 1, figsize=(10, 10))\n",
        "\n",
        "    # Plot loss\n",
        "    ax1.plot(history['train_loss'], label='Train Loss')\n",
        "    ax1.plot(history['val_loss'], label='Val Loss')\n",
        "    ax1.set_xlabel('Epoch')\n",
        "    ax1.set_ylabel('Loss')\n",
        "    ax1.set_title('Training and Validation Loss')\n",
        "    ax1.legend()\n",
        "    ax1.grid(True)\n",
        "\n",
        "    # Plot accuracy\n",
        "    ax2.plot(history['train_acc'], label='Train Acc')\n",
        "    ax2.plot(history['val_acc'], label='Val Acc')\n",
        "    ax2.set_xlabel('Epoch')\n",
        "    ax2.set_ylabel('Accuracy (%)')\n",
        "    ax2.set_title('Training and Validation Accuracy')\n",
        "    ax2.legend()\n",
        "    ax2.grid(True)\n",
        "\n",
        "    plt.tight_layout()\n",
        "    return fig"
      ]
    },
    {
      "cell_type": "code",
      "execution_count": 18,
      "id": "60fb283e-1f78-44fa-ae1e-221d9a973df5",
      "metadata": {
        "id": "60fb283e-1f78-44fa-ae1e-221d9a973df5",
        "colab": {
          "base_uri": "https://localhost:8080/",
          "height": 1000
        },
        "outputId": "3031a9b8-46a6-4098-a087-485b8e5ea2e0"
      },
      "outputs": [
        {
          "output_type": "display_data",
          "data": {
            "text/plain": [
              "<Figure size 1000x1000 with 2 Axes>"
            ],
            "image/png": "[encoded data removed]"
          },
          "metadata": {}
        }
      ],
      "source": [
        "# Plot training history\n",
        "plot_training_history(history)\n",
        "plt.show()"
      ]
    },
    {
      "cell_type": "code",
      "execution_count": 19,
      "id": "3658a73d-d0c1-41d7-b5c7-a9286f7a22d9",
      "metadata": {
        "id": "3658a73d-d0c1-41d7-b5c7-a9286f7a22d9"
      },
      "outputs": [],
      "source": [
        "### Improve your model and trainning"
      ]
    },
    {
      "cell_type": "code",
      "source": [
        "class ConvNet2(nn.Module):\n",
        "    def __init__(self):\n",
        "        super(ConvNet2, self).__init__()\n",
        "\n",
        "        # First convolutional block\n",
        "        self.conv1 = nn.Sequential(\n",
        "            nn.Conv2d(3, 32, kernel_size=3, padding=1),\n",
        "            nn.ReLU(),\n",
        "            nn.BatchNorm2d(32),\n",
        "            nn.AvgPool2d(2),\n",
        "            nn.Dropout2d(0.3)\n",
        "        )\n",
        "\n",
        "        # Second convolutional block\n",
        "        self.conv2 = nn.Sequential(\n",
        "            nn.Conv2d(32, 64, kernel_size=3, padding=1),\n",
        "            nn.ReLU(),\n",
        "            nn.BatchNorm2d(64),\n",
        "            nn.AvgPool2d(2),\n",
        "            nn.Dropout2d(0.3)\n",
        "        )\n",
        "\n",
        "        # Third convolutional block\n",
        "        self.conv3 = nn.Sequential(\n",
        "            nn.Conv2d(64, 128, kernel_size=3, padding=1),\n",
        "            nn.ReLU(),\n",
        "            nn.BatchNorm2d(128),\n",
        "            nn.AvgPool2d(2),\n",
        "            nn.Dropout2d(0.3)\n",
        "        )\n",
        "\n",
        "        # Fully connected layers\n",
        "        self.fc = nn.Sequential(\n",
        "            nn.Linear(128 * 4 * 4, 256),\n",
        "            nn.ReLU(),\n",
        "            nn.BatchNorm1d(256),\n",
        "            nn.Dropout(0.5),\n",
        "            nn.Linear(256, 10)\n",
        "        )\n",
        "\n",
        "    def forward(self, x):\n",
        "        # Input shape: [batch, 3, 32, 32]\n",
        "        x = self.conv1(x)        # -> [batch, 32, 14, 14]\n",
        "        x = self.conv2(x)        # -> [batch, 64, 7, 7]\n",
        "        x = self.conv3(x)        # -> [batch, 128, 4, 4]\n",
        "        x = x.view(-1, 128 * 4 * 4)\n",
        "        x = self.fc(x)          # -> [batch, 10]\n",
        "        return x\n",
        "\n",
        "def create_model2(device):\n",
        "    # Create model instance\n",
        "    model = ConvNet2().to(device)\n",
        "\n",
        "    # Define loss function\n",
        "    criterion = nn.CrossEntropyLoss().to(device)\n",
        "\n",
        "    # Define optimizer with improved parameters\n",
        "    optimizer = torch.optim.AdamW(\n",
        "        model.parameters(),\n",
        "        lr=0.001,\n",
        "        weight_decay=0.01,\n",
        "        betas=(0.9, 0.999)\n",
        "    )\n",
        "\n",
        "    # Learning rate scheduler\n",
        "    scheduler = ReduceLROnPlateau(\n",
        "        optimizer,\n",
        "        mode='min',\n",
        "        factor=0.5,\n",
        "        patience=3,\n",
        "        verbose=True,\n",
        "        min_lr=1e-6\n",
        "    )\n",
        "\n",
        "    return model, criterion, optimizer, scheduler"
      ],
      "metadata": {
        "id": "TNIM5ItuVNUs"
      },
      "id": "TNIM5ItuVNUs",
      "execution_count": 20,
      "outputs": []
    },
    {
      "cell_type": "code",
      "source": [
        "# Set device\n",
        "device = torch.device(\"cuda\" if torch.cuda.is_available() else \"cpu\")\n",
        "\n",
        "# Create model and training components\n",
        "model2, criterion2, optimizer2, scheduler2 = create_model2(device)\n",
        "\n",
        "# Train the model\n",
        "history2 = train_model(\n",
        "    model=model2,\n",
        "    train_loader=train_loader,\n",
        "    val_loader=val_loader,\n",
        "    criterion=criterion2,\n",
        "    optimizer=optimizer2,\n",
        "    device=device,\n",
        "    scheduler=scheduler2,\n",
        "    num_epochs=15,\n",
        "    patience=7\n",
        ")"
      ],
      "metadata": {
        "colab": {
          "base_uri": "https://localhost:8080/"
        },
        "id": "U713frHpVSmj",
        "outputId": "bc6650ad-7635-4e40-c28d-84afaf8a60b9"
      },
      "id": "U713frHpVSmj",
      "execution_count": 21,
      "outputs": [
        {
          "output_type": "stream",
          "name": "stdout",
          "text": [
            "Training started...\n",
            "\n",
            "Epoch 1/15 - Time: 108.00s\n",
            "Train Loss: 1.6392 - Train Acc: 40.82%\n",
            "Val Loss: 1.2481 - Val Acc: 54.32%\n",
            "Learning Rate: 0.001000\n",
            "------------------------------------------------------------\n",
            "Validation loss decreased (inf --> 1.248128). Saving model ...\n",
            "\n",
            "Epoch 2/15 - Time: 105.90s\n",
            "Train Loss: 1.3424 - Train Acc: 51.73%\n",
            "Val Loss: 1.0836 - Val Acc: 61.29%\n",
            "Learning Rate: 0.001000\n",
            "------------------------------------------------------------\n",
            "Validation loss decreased (1.248128 --> 1.083574). Saving model ...\n",
            "\n",
            "Epoch 3/15 - Time: 107.14s\n",
            "Train Loss: 1.2076 - Train Acc: 57.01%\n",
            "Val Loss: 0.9671 - Val Acc: 66.44%\n",
            "Learning Rate: 0.001000\n",
            "------------------------------------------------------------\n",
            "Validation loss decreased (1.083574 --> 0.967135). Saving model ...\n",
            "\n",
            "Epoch 4/15 - Time: 107.52s\n",
            "Train Loss: 1.1240 - Train Acc: 60.50%\n",
            "Val Loss: 0.8727 - Val Acc: 69.16%\n",
            "Learning Rate: 0.001000\n",
            "------------------------------------------------------------\n",
            "Validation loss decreased (0.967135 --> 0.872655). Saving model ...\n",
            "\n",
            "Epoch 5/15 - Time: 106.08s\n",
            "Train Loss: 1.0537 - Train Acc: 63.17%\n",
            "Val Loss: 0.8285 - Val Acc: 71.12%\n",
            "Learning Rate: 0.001000\n",
            "------------------------------------------------------------\n",
            "Validation loss decreased (0.872655 --> 0.828468). Saving model ...\n",
            "\n",
            "Epoch 6/15 - Time: 105.70s\n",
            "Train Loss: 1.0046 - Train Acc: 64.88%\n",
            "Val Loss: 0.8121 - Val Acc: 71.84%\n",
            "Learning Rate: 0.001000\n",
            "------------------------------------------------------------\n",
            "Validation loss decreased (0.828468 --> 0.812072). Saving model ...\n",
            "\n",
            "Epoch 7/15 - Time: 105.96s\n",
            "Train Loss: 0.9591 - Train Acc: 66.27%\n",
            "Val Loss: 0.7727 - Val Acc: 72.89%\n",
            "Learning Rate: 0.001000\n",
            "------------------------------------------------------------\n",
            "Validation loss decreased (0.812072 --> 0.772663). Saving model ...\n",
            "\n",
            "Epoch 8/15 - Time: 105.97s\n",
            "Train Loss: 0.9319 - Train Acc: 67.41%\n",
            "Val Loss: 0.7487 - Val Acc: 73.29%\n",
            "Learning Rate: 0.001000\n",
            "------------------------------------------------------------\n",
            "Validation loss decreased (0.772663 --> 0.748698). Saving model ...\n",
            "\n",
            "Epoch 9/15 - Time: 106.05s\n",
            "Train Loss: 0.9030 - Train Acc: 68.15%\n",
            "Val Loss: 0.7196 - Val Acc: 74.87%\n",
            "Learning Rate: 0.001000\n",
            "------------------------------------------------------------\n",
            "Validation loss decreased (0.748698 --> 0.719593). Saving model ...\n",
            "\n",
            "Epoch 10/15 - Time: 106.25s\n",
            "Train Loss: 0.8712 - Train Acc: 69.92%\n",
            "Val Loss: 0.7119 - Val Acc: 74.77%\n",
            "Learning Rate: 0.001000\n",
            "------------------------------------------------------------\n",
            "Validation loss decreased (0.719593 --> 0.711871). Saving model ...\n",
            "\n",
            "Epoch 11/15 - Time: 106.42s\n",
            "Train Loss: 0.8509 - Train Acc: 70.14%\n",
            "Val Loss: 0.7093 - Val Acc: 74.81%\n",
            "Learning Rate: 0.001000\n",
            "------------------------------------------------------------\n",
            "Validation loss decreased (0.711871 --> 0.709258). Saving model ...\n",
            "\n",
            "Epoch 12/15 - Time: 108.47s\n",
            "Train Loss: 0.8299 - Train Acc: 70.78%\n",
            "Val Loss: 0.6763 - Val Acc: 76.32%\n",
            "Learning Rate: 0.001000\n",
            "------------------------------------------------------------\n",
            "Validation loss decreased (0.709258 --> 0.676289). Saving model ...\n",
            "\n",
            "Epoch 13/15 - Time: 107.92s\n",
            "Train Loss: 0.8089 - Train Acc: 71.66%\n",
            "Val Loss: 0.6775 - Val Acc: 76.32%\n",
            "Learning Rate: 0.001000\n",
            "------------------------------------------------------------\n",
            "EarlyStopping counter: 1 out of 7\n",
            "\n",
            "Epoch 14/15 - Time: 106.07s\n",
            "Train Loss: 0.7975 - Train Acc: 72.04%\n",
            "Val Loss: 0.6701 - Val Acc: 76.57%\n",
            "Learning Rate: 0.001000\n",
            "------------------------------------------------------------\n",
            "Validation loss decreased (0.676289 --> 0.670104). Saving model ...\n",
            "\n",
            "Epoch 15/15 - Time: 105.96s\n",
            "Train Loss: 0.7792 - Train Acc: 72.60%\n",
            "Val Loss: 0.6669 - Val Acc: 76.67%\n",
            "Learning Rate: 0.001000\n",
            "------------------------------------------------------------\n",
            "Validation loss decreased (0.670104 --> 0.666915). Saving model ...\n",
            "\n",
            "Training completed in 1599.78 seconds\n",
            "Best validation accuracy: 76.67%\n"
          ]
        }
      ]
    },
    {
      "cell_type": "code",
      "source": [
        "# Plot training history\n",
        "plot_training_history(history2)\n",
        "plt.show()"
      ],
      "metadata": {
        "colab": {
          "base_uri": "https://localhost:8080/",
          "height": 1000
        },
        "id": "3m8E1U0YVlo1",
        "outputId": "c4991142-f1ad-410d-f262-0de9e0e32104"
      },
      "id": "3m8E1U0YVlo1",
      "execution_count": 22,
      "outputs": [
        {
          "output_type": "display_data",
          "data": {
            "text/plain": [
              "<Figure size 1000x1000 with 2 Axes>"
            ],
            "image/png": "[encoded data removed]"
          },
          "metadata": {}
        }
      ]
    },
    {
      "cell_type": "code",
      "execution_count": null,
      "id": "b1d30af7-20a5-44e5-923b-0f320e395e50",
      "metadata": {
        "id": "b1d30af7-20a5-44e5-923b-0f320e395e50"
      },
      "outputs": [],
      "source": [
        "### Use Transfer Learning"
      ]
    },
    {
      "cell_type": "code",
      "execution_count": null,
      "id": "b25808b6-7552-4a0a-a6ff-fd83eaefdc88",
      "metadata": {
        "id": "b25808b6-7552-4a0a-a6ff-fd83eaefdc88"
      },
      "outputs": [],
      "source": []
    },
    {
      "cell_type": "code",
      "execution_count": null,
      "id": "1315d5dc-7d0f-44ad-95a1-88984834e94c",
      "metadata": {
        "id": "1315d5dc-7d0f-44ad-95a1-88984834e94c"
      },
      "outputs": [],
      "source": []
    },
    {
      "cell_type": "code",
      "execution_count": null,
      "id": "6c23cfab-39de-431a-94ea-57deadb74009",
      "metadata": {
        "id": "6c23cfab-39de-431a-94ea-57deadb74009"
      },
      "outputs": [],
      "source": []
    },
    {
      "cell_type": "code",
      "execution_count": null,
      "id": "a18c0246-c2a5-4b82-a007-86b057434b0a",
      "metadata": {
        "id": "a18c0246-c2a5-4b82-a007-86b057434b0a"
      },
      "outputs": [],
      "source": []
    },
    {
      "cell_type": "markdown",
      "id": "1e6c1adf-074b-47bf-af5a-e3f0a00e1591",
      "metadata": {
        "id": "1e6c1adf-074b-47bf-af5a-e3f0a00e1591"
      },
      "source": [
        "### Generating Submission File"
      ]
    },
    {
      "cell_type": "code",
      "execution_count": 23,
      "id": "3fa5bcef-65cb-446b-96d6-d401bb3a9edc",
      "metadata": {
        "id": "3fa5bcef-65cb-446b-96d6-d401bb3a9edc",
        "colab": {
          "base_uri": "https://localhost:8080/"
        },
        "outputId": "c27721c0-bad4-4927-a59f-968b2f97342c"
      },
      "outputs": [
        {
          "output_type": "stream",
          "name": "stderr",
          "text": [
            "<ipython-input-23-c9b6f419ac86>:1: FutureWarning: You are using `torch.load` with `weights_only=False` (the current default value), which uses the default pickle module implicitly. It is possible to construct malicious pickle data which will execute arbitrary code during unpickling (See https://github.com/pytorch/pytorch/blob/main/SECURITY.md#untrusted-models for more details). In a future release, the default value for `weights_only` will be flipped to `True`. This limits the functions that could be executed during unpickling. Arbitrary objects will no longer be allowed to be loaded via this mode unless they are explicitly allowlisted by the user via `torch.serialization.add_safe_globals`. We recommend you start setting `weights_only=True` for any use case where you don't have full control of the loaded file. Please open an issue on GitHub for any issues related to this experimental feature.\n",
            "  X_test = torch.load('X_test.pth')\n"
          ]
        }
      ],
      "source": [
        "X_test = torch.load('X_test.pth')"
      ]
    },
    {
      "cell_type": "code",
      "execution_count": 25,
      "id": "c9581f59-2189-42cf-a69f-0d174b2fe7a5",
      "metadata": {
        "id": "c9581f59-2189-42cf-a69f-0d174b2fe7a5",
        "colab": {
          "base_uri": "https://localhost:8080/"
        },
        "outputId": "2f823c18-3e30-41fa-c892-7dcb456fcaff"
      },
      "outputs": [
        {
          "output_type": "stream",
          "name": "stderr",
          "text": [
            "<ipython-input-25-dd61deb04001>:1: FutureWarning: You are using `torch.load` with `weights_only=False` (the current default value), which uses the default pickle module implicitly. It is possible to construct malicious pickle data which will execute arbitrary code during unpickling (See https://github.com/pytorch/pytorch/blob/main/SECURITY.md#untrusted-models for more details). In a future release, the default value for `weights_only` will be flipped to `True`. This limits the functions that could be executed during unpickling. Arbitrary objects will no longer be allowed to be loaded via this mode unless they are explicitly allowlisted by the user via `torch.serialization.add_safe_globals`. We recommend you start setting `weights_only=True` for any use case where you don't have full control of the loaded file. Please open an issue on GitHub for any issues related to this experimental feature.\n",
            "  X_test = torch.load('X_test.pth')\n"
          ]
        }
      ],
      "source": [
        "X_test = torch.load('X_test.pth')\n",
        "\n",
        "# Scale features\n",
        "num_samples, nb_layers, height, width = X_test.shape\n",
        "X_reshaped = X_test.reshape(num_samples, -1)  # Flatten for scaling\n",
        "scaler = StandardScaler()\n",
        "X_scaled_flat = scaler.fit_transform(X_reshaped)  # Scale features\n",
        "X_test_scaled = X_scaled_flat.reshape(num_samples, nb_layers, height, width)  # Reshape with channel dimension"
      ]
    },
    {
      "cell_type": "code",
      "source": [
        "X_test_scaled = torch.tensor(X_test_scaled, dtype=torch.float32)"
      ],
      "metadata": {
        "id": "aEgeJceUNWkX"
      },
      "id": "aEgeJceUNWkX",
      "execution_count": 27,
      "outputs": []
    },
    {
      "cell_type": "code",
      "execution_count": 28,
      "id": "bb94bdc9-045d-44f5-a425-2a0623d0e994",
      "metadata": {
        "id": "bb94bdc9-045d-44f5-a425-2a0623d0e994"
      },
      "outputs": [],
      "source": [
        "model.eval()  # Set the model to evaluation mode\n",
        "with torch.no_grad():\n",
        "    predictions = model(X_test_scaled)"
      ]
    },
    {
      "cell_type": "code",
      "execution_count": 29,
      "id": "ed9d9fa3-16fc-4a77-8b31-a1e1eb196166",
      "metadata": {
        "id": "ed9d9fa3-16fc-4a77-8b31-a1e1eb196166"
      },
      "outputs": [],
      "source": [
        "_, predicted_labels = torch.max(predictions, dim=1)"
      ]
    },
    {
      "cell_type": "code",
      "execution_count": 33,
      "id": "8f1a3d3e-de05-47f1-8984-1b6f0732f2de",
      "metadata": {
        "id": "8f1a3d3e-de05-47f1-8984-1b6f0732f2de",
        "colab": {
          "base_uri": "https://localhost:8080/",
          "height": 206
        },
        "outputId": "32bda1a3-5569-4ff7-919e-90eb3136fc0f"
      },
      "outputs": [
        {
          "output_type": "execute_result",
          "data": {
            "text/plain": [
              "   index  label\n",
              "0      0      3\n",
              "1      1      8\n",
              "2      2      8\n",
              "3      3      0\n",
              "4      4      6"
            ],
            "text/html": [
              "\n",
              "  <div id=\"df-5d76b8f0-428b-4e00-99e4-2a3a1aba6432\" class=\"colab-df-container\">\n",
              "    <div>\n",
              "<style scoped>\n",
              "    .dataframe tbody tr th:only-of-type {\n",
              "        vertical-align: middle;\n",
              "    }\n",
              "\n",
              "    .dataframe tbody tr th {\n",
              "        vertical-align: top;\n",
              "    }\n",
              "\n",
              "    .dataframe thead th {\n",
              "        text-align: right;\n",
              "    }\n",
              "</style>\n",
              "<table border=\"1\" class=\"dataframe\">\n",
              "  <thead>\n",
              "    <tr style=\"text-align: right;\">\n",
              "      <th></th>\n",
              "      <th>index</th>\n",
              "      <th>label</th>\n",
              "    </tr>\n",
              "  </thead>\n",
              "  <tbody>\n",
              "    <tr>\n",
              "      <th>0</th>\n",
              "      <td>0</td>\n",
              "      <td>3</td>\n",
              "    </tr>\n",
              "    <tr>\n",
              "      <th>1</th>\n",
              "      <td>1</td>\n",
              "      <td>8</td>\n",
              "    </tr>\n",
              "    <tr>\n",
              "      <th>2</th>\n",
              "      <td>2</td>\n",
              "      <td>8</td>\n",
              "    </tr>\n",
              "    <tr>\n",
              "      <th>3</th>\n",
              "      <td>3</td>\n",
              "      <td>0</td>\n",
              "    </tr>\n",
              "    <tr>\n",
              "      <th>4</th>\n",
              "      <td>4</td>\n",
              "      <td>6</td>\n",
              "    </tr>\n",
              "  </tbody>\n",
              "</table>\n",
              "</div>\n",
              "    <div class=\"colab-df-buttons\">\n",
              "\n",
              "  <div class=\"colab-df-container\">\n",
              "    <button class=\"colab-df-convert\" onclick=\"convertToInteractive('df-5d76b8f0-428b-4e00-99e4-2a3a1aba6432')\"\n",
              "            title=\"Convert this dataframe to an interactive table.\"\n",
              "            style=\"display:none;\">\n",
              "\n",
              "  <svg xmlns=\"http://www.w3.org/2000/svg\" height=\"24px\" viewBox=\"0 -960 960 960\">\n",
              "    <path d=\"M120-120v-720h720v720H120Zm60-500h600v-160H180v160Zm220 220h160v-160H400v160Zm0 220h160v-160H400v160ZM180-400h160v-160H180v160Zm440 0h160v-160H620v160ZM180-180h160v-160H180v160Zm440 0h160v-160H620v160Z\"/>\n",
              "  </svg>\n",
              "    </button>\n",
              "\n",
              "  <style>\n",
              "    .colab-df-container {\n",
              "      display:flex;\n",
              "      gap: 12px;\n",
              "    }\n",
              "\n",
              "    .colab-df-convert {\n",
              "      background-color: #E8F0FE;\n",
              "      border: none;\n",
              "      border-radius: 50%;\n",
              "      cursor: pointer;\n",
              "      display: none;\n",
              "      fill: #1967D2;\n",
              "      height: 32px;\n",
              "      padding: 0 0 0 0;\n",
              "      width: 32px;\n",
              "    }\n",
              "\n",
              "    .colab-df-convert:hover {\n",
              "      background-color: #E2EBFA;\n",
              "      box-shadow: 0px 1px 2px rgba(60, 64, 67, 0.3), 0px 1px 3px 1px rgba(60, 64, 67, 0.15);\n",
              "      fill: #174EA6;\n",
              "    }\n",
              "\n",
              "    .colab-df-buttons div {\n",
              "      margin-bottom: 4px;\n",
              "    }\n",
              "\n",
              "    [theme=dark] .colab-df-convert {\n",
              "      background-color: #3B4455;\n",
              "      fill: #D2E3FC;\n",
              "    }\n",
              "\n",
              "    [theme=dark] .colab-df-convert:hover {\n",
              "      background-color: #434B5C;\n",
              "      box-shadow: 0px 1px 3px 1px rgba(0, 0, 0, 0.15);\n",
              "      filter: drop-shadow(0px 1px 2px rgba(0, 0, 0, 0.3));\n",
              "      fill: #FFFFFF;\n",
              "    }\n",
              "  </style>\n",
              "\n",
              "    <script>\n",
              "      const buttonEl =\n",
              "        document.querySelector('#df-5d76b8f0-428b-4e00-99e4-2a3a1aba6432 button.colab-df-convert');\n",
              "      buttonEl.style.display =\n",
              "        google.colab.kernel.accessAllowed ? 'block' : 'none';\n",
              "\n",
              "      async function convertToInteractive(key) {\n",
              "        const element = document.querySelector('#df-5d76b8f0-428b-4e00-99e4-2a3a1aba6432');\n",
              "        const dataTable =\n",
              "          await google.colab.kernel.invokeFunction('convertToInteractive',\n",
              "                                                    [key], {});\n",
              "        if (!dataTable) return;\n",
              "\n",
              "        const docLinkHtml = 'Like what you see? Visit the ' +\n",
              "          '<a target=\"_blank\" href=https://colab.research.google.com/notebooks/data_table.ipynb>data table notebook</a>'\n",
              "          + ' to learn more about interactive tables.';\n",
              "        element.innerHTML = '';\n",
              "        dataTable['output_type'] = 'display_data';\n",
              "        await google.colab.output.renderOutput(dataTable, element);\n",
              "        const docLink = document.createElement('div');\n",
              "        docLink.innerHTML = docLinkHtml;\n",
              "        element.appendChild(docLink);\n",
              "      }\n",
              "    </script>\n",
              "  </div>\n",
              "\n",
              "\n",
              "<div id=\"df-d418a1b9-5abd-491d-8867-4f828fe1de6b\">\n",
              "  <button class=\"colab-df-quickchart\" onclick=\"quickchart('df-d418a1b9-5abd-491d-8867-4f828fe1de6b')\"\n",
              "            title=\"Suggest charts\"\n",
              "            style=\"display:none;\">\n",
              "\n",
              "<svg xmlns=\"http://www.w3.org/2000/svg\" height=\"24px\"viewBox=\"0 0 24 24\"\n",
              "     width=\"24px\">\n",
              "    <g>\n",
              "        <path d=\"M19 3H5c-1.1 0-2 .9-2 2v14c0 1.1.9 2 2 2h14c1.1 0 2-.9 2-2V5c0-1.1-.9-2-2-2zM9 17H7v-7h2v7zm4 0h-2V7h2v10zm4 0h-2v-4h2v4z\"/>\n",
              "    </g>\n",
              "</svg>\n",
              "  </button>\n",
              "\n",
              "<style>\n",
              "  .colab-df-quickchart {\n",
              "      --bg-color: #E8F0FE;\n",
              "      --fill-color: #1967D2;\n",
              "      --hover-bg-color: #E2EBFA;\n",
              "      --hover-fill-color: #174EA6;\n",
              "      --disabled-fill-color: #AAA;\n",
              "      --disabled-bg-color: #DDD;\n",
              "  }\n",
              "\n",
              "  [theme=dark] .colab-df-quickchart {\n",
              "      --bg-color: #3B4455;\n",
              "      --fill-color: #D2E3FC;\n",
              "      --hover-bg-color: #434B5C;\n",
              "      --hover-fill-color: #FFFFFF;\n",
              "      --disabled-bg-color: #3B4455;\n",
              "      --disabled-fill-color: #666;\n",
              "  }\n",
              "\n",
              "  .colab-df-quickchart {\n",
              "    background-color: var(--bg-color);\n",
              "    border: none;\n",
              "    border-radius: 50%;\n",
              "    cursor: pointer;\n",
              "    display: none;\n",
              "    fill: var(--fill-color);\n",
              "    height: 32px;\n",
              "    padding: 0;\n",
              "    width: 32px;\n",
              "  }\n",
              "\n",
              "  .colab-df-quickchart:hover {\n",
              "    background-color: var(--hover-bg-color);\n",
              "    box-shadow: 0 1px 2px rgba(60, 64, 67, 0.3), 0 1px 3px 1px rgba(60, 64, 67, 0.15);\n",
              "    fill: var(--button-hover-fill-color);\n",
              "  }\n",
              "\n",
              "  .colab-df-quickchart-complete:disabled,\n",
              "  .colab-df-quickchart-complete:disabled:hover {\n",
              "    background-color: var(--disabled-bg-color);\n",
              "    fill: var(--disabled-fill-color);\n",
              "    box-shadow: none;\n",
              "  }\n",
              "\n",
              "  .colab-df-spinner {\n",
              "    border: 2px solid var(--fill-color);\n",
              "    border-color: transparent;\n",
              "    border-bottom-color: var(--fill-color);\n",
              "    animation:\n",
              "      spin 1s steps(1) infinite;\n",
              "  }\n",
              "\n",
              "  @keyframes spin {\n",
              "    0% {\n",
              "      border-color: transparent;\n",
              "      border-bottom-color: var(--fill-color);\n",
              "      border-left-color: var(--fill-color);\n",
              "    }\n",
              "    20% {\n",
              "      border-color: transparent;\n",
              "      border-left-color: var(--fill-color);\n",
              "      border-top-color: var(--fill-color);\n",
              "    }\n",
              "    30% {\n",
              "      border-color: transparent;\n",
              "      border-left-color: var(--fill-color);\n",
              "      border-top-color: var(--fill-color);\n",
              "      border-right-color: var(--fill-color);\n",
              "    }\n",
              "    40% {\n",
              "      border-color: transparent;\n",
              "      border-right-color: var(--fill-color);\n",
              "      border-top-color: var(--fill-color);\n",
              "    }\n",
              "    60% {\n",
              "      border-color: transparent;\n",
              "      border-right-color: var(--fill-color);\n",
              "    }\n",
              "    80% {\n",
              "      border-color: transparent;\n",
              "      border-right-color: var(--fill-color);\n",
              "      border-bottom-color: var(--fill-color);\n",
              "    }\n",
              "    90% {\n",
              "      border-color: transparent;\n",
              "      border-bottom-color: var(--fill-color);\n",
              "    }\n",
              "  }\n",
              "</style>\n",
              "\n",
              "  <script>\n",
              "    async function quickchart(key) {\n",
              "      const quickchartButtonEl =\n",
              "        document.querySelector('#' + key + ' button');\n",
              "      quickchartButtonEl.disabled = true;  // To prevent multiple clicks.\n",
              "      quickchartButtonEl.classList.add('colab-df-spinner');\n",
              "      try {\n",
              "        const charts = await google.colab.kernel.invokeFunction(\n",
              "            'suggestCharts', [key], {});\n",
              "      } catch (error) {\n",
              "        console.error('Error during call to suggestCharts:', error);\n",
              "      }\n",
              "      quickchartButtonEl.classList.remove('colab-df-spinner');\n",
              "      quickchartButtonEl.classList.add('colab-df-quickchart-complete');\n",
              "    }\n",
              "    (() => {\n",
              "      let quickchartButtonEl =\n",
              "        document.querySelector('#df-d418a1b9-5abd-491d-8867-4f828fe1de6b button');\n",
              "      quickchartButtonEl.style.display =\n",
              "        google.colab.kernel.accessAllowed ? 'block' : 'none';\n",
              "    })();\n",
              "  </script>\n",
              "</div>\n",
              "\n",
              "    </div>\n",
              "  </div>\n"
            ],
            "application/vnd.google.colaboratory.intrinsic+json": {
              "type": "dataframe",
              "variable_name": "submission",
              "summary": "{\n  \"name\": \"submission\",\n  \"rows\": 10000,\n  \"fields\": [\n    {\n      \"column\": \"index\",\n      \"properties\": {\n        \"dtype\": \"number\",\n        \"std\": 2886,\n        \"min\": 0,\n        \"max\": 9999,\n        \"num_unique_values\": 10000,\n        \"samples\": [\n          6252,\n          4684,\n          1731\n        ],\n        \"semantic_type\": \"\",\n        \"description\": \"\"\n      }\n    },\n    {\n      \"column\": \"label\",\n      \"properties\": {\n        \"dtype\": \"number\",\n        \"std\": 2,\n        \"min\": 0,\n        \"max\": 9,\n        \"num_unique_values\": 10,\n        \"samples\": [\n          7,\n          8,\n          4\n        ],\n        \"semantic_type\": \"\",\n        \"description\": \"\"\n      }\n    }\n  ]\n}"
            }
          },
          "metadata": {},
          "execution_count": 33
        }
      ],
      "source": [
        "submission = pd.DataFrame({\n",
        "    'index': np.arange(len(X_test)),\n",
        "    'label': predicted_labels\n",
        "})\n",
        "\n",
        "submission.to_csv('submission.csv', index=False, sep=',')\n",
        "submission.head()"
      ]
    },
    {
      "cell_type": "code",
      "source": [],
      "metadata": {
        "id": "QaOV1D_qNi7k"
      },
      "id": "QaOV1D_qNi7k",
      "execution_count": null,
      "outputs": []
    }
  ],
  "metadata": {
    "kernelspec": {
      "display_name": "Python 3",
      "name": "python3"
    },
    "language_info": {
      "codemirror_mode": {
        "name": "ipython",
        "version": 3
      },
      "file_extension": ".py",
      "mimetype": "text/x-python",
      "name": "python",
      "nbconvert_exporter": "python",
      "pygments_lexer": "ipython3",
      "version": "3.12.3"
    },
    "colab": {
      "provenance": []
    }
  },
  "nbformat": 4,
  "nbformat_minor": 5
}