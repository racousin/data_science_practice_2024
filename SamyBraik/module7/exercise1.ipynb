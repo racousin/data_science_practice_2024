{
  "cells": [
    {
      "cell_type": "code",
      "execution_count": 10,
      "id": "ad6db548-ee6a-4a31-8aae-eb014e45806c",
      "metadata": {
        "id": "ad6db548-ee6a-4a31-8aae-eb014e45806c"
      },
      "outputs": [],
      "source": [
        "# Deep Learning Fundamentals: MNIST Case Study\n",
        "import torch\n",
        "import torch.nn as nn\n",
        "import torch.optim as optim\n",
        "from torch.utils.data import DataLoader\n",
        "import matplotlib.pyplot as plt\n",
        "import numpy as np\n",
        "from sklearn.metrics import confusion_matrix\n",
        "import seaborn as sns\n",
        "import pandas as pd\n",
        "from torch.utils.data import TensorDataset, Dataset, DataLoader, random_split\n",
        "from sklearn.preprocessing import StandardScaler\n",
        "from sklearn.model_selection import train_test_split"
      ]
    },
    {
      "cell_type": "markdown",
      "id": "9e83ffc7-885b-4470-904f-b1015355ccee",
      "metadata": {
        "id": "9e83ffc7-885b-4470-904f-b1015355ccee"
      },
      "source": [
        "### Data Collection"
      ]
    },
    {
      "cell_type": "code",
      "execution_count": 2,
      "id": "4529f06b-2df5-42b9-8038-6ad5253ce57f",
      "metadata": {
        "colab": {
          "base_uri": "https://localhost:8080/"
        },
        "id": "4529f06b-2df5-42b9-8038-6ad5253ce57f",
        "outputId": "e7fbe7fb-01c2-4910-ff4d-09c35c96817c"
      },
      "outputs": [
        {
          "output_type": "stream",
          "name": "stdout",
          "text": [
            "Downloaded module7_exercise_train_features.csv from https://www.raphaelcousin.com/modules/module7/exercise/module7_exercise_train_features.csv\n",
            "Downloaded module7_exercise_train_labels.csv from https://www.raphaelcousin.com/modules/module7/exercise/module7_exercise_train_labels.csv\n",
            "Downloaded module7_exercise_test_features.csv from https://www.raphaelcousin.com/modules/module7/exercise/module7_exercise_test_features.csv\n"
          ]
        }
      ],
      "source": [
        "import requests\n",
        "\n",
        "# URLs of the files\n",
        "data_train_features_url = 'https://www.raphaelcousin.com/modules/module7/exercise/module7_exercise_train_features.csv'\n",
        "data_train_labels_url = 'https://www.raphaelcousin.com/modules/module7/exercise/module7_exercise_train_labels.csv'\n",
        "data_test_features_url = 'https://www.raphaelcousin.com/modules/module7/exercise/module7_exercise_test_features.csv'\n",
        "\n",
        "# Function to download a file\n",
        "def download_file(url, file_name):\n",
        "    response = requests.get(url)\n",
        "    response.raise_for_status()  # Ensure we notice bad responses\n",
        "    with open(file_name, 'wb') as file:\n",
        "        file.write(response.content)\n",
        "    print(f'Downloaded {file_name} from {url}')\n",
        "\n",
        "# Downloading the files\n",
        "download_file(data_train_features_url, 'module7_exercise_train_features.csv')\n",
        "download_file(data_train_labels_url, 'module7_exercise_train_labels.csv')\n",
        "download_file(data_test_features_url, 'module7_exercise_test_features.csv')"
      ]
    },
    {
      "cell_type": "code",
      "execution_count": 3,
      "id": "41047ae2-d886-4d6d-9ebe-ce527da3b82d",
      "metadata": {
        "id": "41047ae2-d886-4d6d-9ebe-ce527da3b82d"
      },
      "outputs": [],
      "source": [
        "X = pd.read_csv('module7_exercise_train_features.csv').values\n",
        "y = pd.read_csv('module7_exercise_train_labels.csv').values.ravel()"
      ]
    },
    {
      "cell_type": "markdown",
      "id": "a6ca6340-b643-47db-85e0-3df691319232",
      "metadata": {
        "id": "a6ca6340-b643-47db-85e0-3df691319232"
      },
      "source": [
        "### Data Analysis"
      ]
    },
    {
      "cell_type": "code",
      "execution_count": 4,
      "id": "42567510-e5d1-41bb-8aa3-149fb123fab9",
      "metadata": {
        "colab": {
          "base_uri": "https://localhost:8080/"
        },
        "id": "42567510-e5d1-41bb-8aa3-149fb123fab9",
        "outputId": "92194556-c426-4cc5-c7e7-5f396de03167"
      },
      "outputs": [
        {
          "output_type": "execute_result",
          "data": {
            "text/plain": [
              "(60000, 784)"
            ]
          },
          "metadata": {},
          "execution_count": 4
        }
      ],
      "source": [
        "X.shape"
      ]
    },
    {
      "cell_type": "code",
      "execution_count": 5,
      "id": "7d72a598-dab8-4e6f-841a-5808c98953d3",
      "metadata": {
        "colab": {
          "base_uri": "https://localhost:8080/"
        },
        "id": "7d72a598-dab8-4e6f-841a-5808c98953d3",
        "outputId": "342e14bb-208a-48ea-f9e7-4d4c53883f9f"
      },
      "outputs": [
        {
          "output_type": "execute_result",
          "data": {
            "text/plain": [
              "(60000,)"
            ]
          },
          "metadata": {},
          "execution_count": 5
        }
      ],
      "source": [
        "y.shape"
      ]
    },
    {
      "cell_type": "code",
      "execution_count": 6,
      "id": "0f48d4fd-1964-4796-8143-fdc292655497",
      "metadata": {
        "id": "0f48d4fd-1964-4796-8143-fdc292655497"
      },
      "outputs": [],
      "source": [
        "def plot_mnist_digits(X, y, num_examples=5, figsize=(15, 3)):\n",
        "    # Create figure\n",
        "    fig, axes = plt.subplots(1, num_examples, figsize=figsize)\n",
        "\n",
        "    # Ensure axes is always a numpy array\n",
        "    if num_examples == 1:\n",
        "        axes = np.array([axes])\n",
        "\n",
        "    # Plot each example\n",
        "    for i in range(num_examples):\n",
        "        # Reshape the flattened image back to 28x28\n",
        "        img = X[i].reshape(28, 28)\n",
        "\n",
        "        # Plot\n",
        "        axes[i].imshow(img, cmap='gray')\n",
        "        axes[i].set_title(f'Label: {y[i]}')\n",
        "        axes[i].axis('off')\n",
        "\n",
        "    plt.tight_layout()\n",
        "    return fig"
      ]
    },
    {
      "cell_type": "code",
      "execution_count": 7,
      "id": "5954fff0-7a27-4ccd-83d0-8b001ad96035",
      "metadata": {
        "colab": {
          "base_uri": "https://localhost:8080/",
          "height": 275
        },
        "id": "5954fff0-7a27-4ccd-83d0-8b001ad96035",
        "outputId": "c1b4a8ad-60cc-4be1-e719-ff52330e5ec2"
      },
      "outputs": [
        {
          "output_type": "display_data",
          "data": {
            "text/plain": [
              "<Figure size 1500x300 with 5 Axes>"
            ],
            "image/png": "[encoded data removed]"
          },
          "metadata": {}
        }
      ],
      "source": [
        "# Plot some examples\n",
        "fig = plot_mnist_digits(X, y, num_examples=5)\n",
        "plt.show()"
      ]
    },
    {
      "cell_type": "markdown",
      "id": "d4011c61-79e4-4c5e-8dd5-e8053e4066c6",
      "metadata": {
        "id": "d4011c61-79e4-4c5e-8dd5-e8053e4066c6"
      },
      "source": [
        "### Data Preprocessing\n",
        "Scale, split the data and create dataLoaders"
      ]
    },
    {
      "cell_type": "code",
      "execution_count": 11,
      "id": "669dc3ee-0d36-48ef-93d1-854c87a372e7",
      "metadata": {
        "id": "669dc3ee-0d36-48ef-93d1-854c87a372e7"
      },
      "outputs": [],
      "source": [
        "def preprocess_data(X, y, batch_size=32, train_size=0.7, val_size=0.15, random_state=42):\n",
        "  # Scale features\n",
        "    scaler = StandardScaler()\n",
        "    X_scaled = scaler.fit_transform(X)\n",
        "\n",
        "    # Split data into train+val and test\n",
        "    test_size = 1 - train_size - val_size\n",
        "    X_trainval, X_test, y_trainval, y_test = train_test_split(\n",
        "        X_scaled, y, test_size=test_size,\n",
        "        random_state=random_state, stratify=y\n",
        "    )\n",
        "\n",
        "    # Split train+val into train and val\n",
        "    X_train, X_val, y_train, y_val = train_test_split(\n",
        "        X_trainval, y_trainval,\n",
        "        test_size=val_size/(train_size + val_size),\n",
        "        random_state=random_state, stratify=y_trainval\n",
        "    )\n",
        "\n",
        "    # Convert to tensors and create dataloaders\n",
        "    loaders = {\n",
        "        'train': DataLoader(\n",
        "            TensorDataset(torch.FloatTensor(X_train), torch.LongTensor(y_train)),\n",
        "            batch_size=batch_size, shuffle=True\n",
        "        ),\n",
        "        'val': DataLoader(\n",
        "            TensorDataset(torch.FloatTensor(X_val), torch.LongTensor(y_val)),\n",
        "            batch_size=batch_size\n",
        "        ),\n",
        "        'test': DataLoader(\n",
        "            TensorDataset(torch.FloatTensor(X_test), torch.LongTensor(y_test)),\n",
        "            batch_size=batch_size\n",
        "        )\n",
        "    }\n",
        "\n",
        "    return loaders['train'], loaders['val'], loaders['test'], scaler\n",
        "    return data_loader_train, data_loader_val, data_loader_test"
      ]
    },
    {
      "cell_type": "code",
      "source": [
        "train_loader, val_loader, test_loader, scaler = preprocess_data(X, y)"
      ],
      "metadata": {
        "id": "KNvOUcPEcuUP"
      },
      "id": "KNvOUcPEcuUP",
      "execution_count": 16,
      "outputs": []
    },
    {
      "cell_type": "markdown",
      "id": "ff035d78-4d48-4350-b454-8a739ba0d07f",
      "metadata": {
        "id": "ff035d78-4d48-4350-b454-8a739ba0d07f"
      },
      "source": [
        "### Model\n",
        "Create a simple model with right input output and define criterion and criterion/loss"
      ]
    },
    {
      "cell_type": "code",
      "execution_count": 27,
      "id": "96f2bc76-ae97-49e8-9e25-1d8b4aed78d0",
      "metadata": {
        "id": "96f2bc76-ae97-49e8-9e25-1d8b4aed78d0"
      },
      "outputs": [],
      "source": [
        "from torch.optim.lr_scheduler import ReduceLROnPlateau\n",
        "\n",
        "def create_model(device):\n",
        "    dropout_rate = 0.2\n",
        "    model = nn.Sequential(\n",
        "                # First hidden layer\n",
        "                nn.Linear(784, 512),\n",
        "                nn.ReLU(),\n",
        "                nn.BatchNorm1d(512),\n",
        "                nn.Dropout(dropout_rate),\n",
        "\n",
        "                # Second hidden layer\n",
        "                nn.Linear(512, 256),\n",
        "                nn.ReLU(),\n",
        "                nn.BatchNorm1d(256),\n",
        "                nn.Dropout(dropout_rate),\n",
        "\n",
        "                # Third hidden layer\n",
        "                nn.Linear(256, 128),\n",
        "                nn.ReLU(),\n",
        "                nn.BatchNorm1d(128),\n",
        "                nn.Dropout(dropout_rate),\n",
        "\n",
        "                # Output layer\n",
        "                nn.Linear(128, 10)\n",
        "            ).to(device)\n",
        "\n",
        "\n",
        "    # Define loss function\n",
        "    criterion = nn.CrossEntropyLoss().to(device)\n",
        "\n",
        "    # Define optimizer (with reasonable defaults)\n",
        "    optimizer = torch.optim.Adam(\n",
        "        model.parameters(),\n",
        "        lr=0.01,\n",
        "        betas=(0.9, 0.999),\n",
        "        eps=1e-08,\n",
        "        weight_decay=0.0001\n",
        "    )\n",
        "\n",
        "    scheduler = ReduceLROnPlateau(\n",
        "        optimizer,\n",
        "        mode='min',\n",
        "        factor=0.1,\n",
        "        patience=5,\n",
        "        verbose=True,\n",
        "        min_lr=1e-6\n",
        "    )\n",
        "    return model, criterion, optimizer, scheduler"
      ]
    },
    {
      "cell_type": "markdown",
      "id": "8e81ce88-118f-43bf-b7ad-94022be495ef",
      "metadata": {
        "id": "8e81ce88-118f-43bf-b7ad-94022be495ef"
      },
      "source": [
        "### Train\n",
        "Create a loop to train your model"
      ]
    },
    {
      "cell_type": "code",
      "execution_count": 24,
      "id": "41e5ee84-736e-4163-8276-53c8e0de752b",
      "metadata": {
        "id": "41e5ee84-736e-4163-8276-53c8e0de752b"
      },
      "outputs": [],
      "source": [
        "from time import time\n",
        "from collections import defaultdict\n",
        "\n",
        "class EarlyStopping:\n",
        "    def __init__(self, patience=7, min_delta=0, path='checkpoint.pt'):\n",
        "        self.patience = patience\n",
        "        self.min_delta = min_delta\n",
        "        self.path = path\n",
        "        self.counter = 0\n",
        "        self.best_loss = None\n",
        "        self.early_stop = False\n",
        "        self.val_loss_min = np.inf\n",
        "\n",
        "    def __call__(self, val_loss, model):\n",
        "        if self.best_loss is None:\n",
        "            self.best_loss = val_loss\n",
        "            self.save_checkpoint(val_loss, model)\n",
        "        elif val_loss > self.best_loss + self.min_delta:\n",
        "            self.counter += 1\n",
        "            print(f'EarlyStopping counter: {self.counter} out of {self.patience}')\n",
        "            if self.counter >= self.patience:\n",
        "                self.early_stop = True\n",
        "        else:\n",
        "            self.best_loss = val_loss\n",
        "            self.save_checkpoint(val_loss, model)\n",
        "            self.counter = 0\n",
        "\n",
        "    def save_checkpoint(self, val_loss, model):\n",
        "        print(f'Validation loss decreased ({self.val_loss_min:.6f} --> {val_loss:.6f}). Saving model ...')\n",
        "        torch.save(model.state_dict(), self.path)\n",
        "        self.val_loss_min = val_loss\n",
        "\n",
        "def train_epoch(model, loader, criterion, optimizer, device, is_training=True):\n",
        "    \"\"\"Run one epoch of training or validation.\"\"\"\n",
        "    model.train() if is_training else model.eval()\n",
        "    total_loss = 0.0\n",
        "    correct = 0\n",
        "    total = 0\n",
        "\n",
        "    context = torch.enable_grad() if is_training else torch.no_grad()\n",
        "    with context:\n",
        "        for data, target in loader:\n",
        "            data, target = data.to(device), target.to(device)\n",
        "\n",
        "            if is_training:\n",
        "                optimizer.zero_grad()\n",
        "\n",
        "            output = model(data)\n",
        "            loss = criterion(output, target)\n",
        "\n",
        "            if is_training:\n",
        "                loss.backward()\n",
        "                optimizer.step()\n",
        "\n",
        "            total_loss += loss.item()\n",
        "            _, predicted = output.max(1)\n",
        "            total += target.size(0)\n",
        "            correct += predicted.eq(target).sum().item()\n",
        "\n",
        "    avg_loss = total_loss / len(loader)\n",
        "    accuracy = 100. * correct / total\n",
        "    return avg_loss, accuracy\n",
        "def train_model(model, train_loader, val_loader, criterion, optimizer,device, num_epochs=100, patience=7, checkpoint_path='best_model.pt'):\n",
        "    \"\"\"Train a model with early stopping and checkpointing.\"\"\"\n",
        "    early_stopping = EarlyStopping(patience=patience, path=checkpoint_path)\n",
        "    history = defaultdict(list)\n",
        "    best_acc = 0.0\n",
        "    start_time = time()\n",
        "\n",
        "    print(\"Training started...\")\n",
        "    for epoch in range(num_epochs):\n",
        "        epoch_start = time()\n",
        "\n",
        "        # Training phase\n",
        "        train_loss, train_acc = train_epoch(\n",
        "            model, train_loader, criterion, optimizer, device, is_training=True\n",
        "        )\n",
        "\n",
        "        # Validation phase\n",
        "        val_loss, val_acc = train_epoch(\n",
        "            model, val_loader, criterion, optimizer, device, is_training=False\n",
        "        )\n",
        "\n",
        "        scheduler.step(val_loss)\n",
        "\n",
        "        # Save metrics\n",
        "        history['train_loss'].append(train_loss)\n",
        "        history['train_acc'].append(train_acc)\n",
        "        history['val_loss'].append(val_loss)\n",
        "        history['val_acc'].append(val_acc)\n",
        "        history['lr'].append(optimizer.param_groups[0]['lr'])\n",
        "\n",
        "        # Print epoch results\n",
        "        print(f\"\\nEpoch {epoch+1}/{num_epochs} - Time: {time() - epoch_start:.2f}s\")\n",
        "        print(f\"Train Loss: {train_loss:.4f} - Train Acc: {train_acc:.2f}%\")\n",
        "        print(f\"Val Loss: {val_loss:.4f} - Val Acc: {val_acc:.2f}%\")\n",
        "        print(f\"Learning Rate: {optimizer.param_groups[0]['lr']:.6f}\")\n",
        "        print(\"-\" * 60)\n",
        "\n",
        "        # Early stopping check\n",
        "        early_stopping(val_loss, model)\n",
        "        if early_stopping.early_stop:\n",
        "            print(\"Early stopping triggered\")\n",
        "            break\n",
        "\n",
        "        # Save best model\n",
        "        if val_acc > best_acc:\n",
        "            best_acc = val_acc\n",
        "            torch.save({\n",
        "                'epoch': epoch,\n",
        "                'model_state_dict': model.state_dict(),\n",
        "                'optimizer_state_dict': optimizer.state_dict(),\n",
        "                'train_loss': train_loss,\n",
        "                'val_loss': val_loss,\n",
        "                'train_acc': train_acc,\n",
        "                'val_acc': val_acc,\n",
        "            }, 'best_acc_model.pt')\n",
        "\n",
        "    total_time = time() - start_time\n",
        "    print(f\"\\nTraining completed in {total_time:.2f} seconds\")\n",
        "    print(f\"Best validation accuracy: {best_acc:.2f}%\")\n",
        "\n",
        "    return history"
      ]
    },
    {
      "cell_type": "code",
      "source": [
        "# Set device\n",
        "device = torch.device(\"cuda\" if torch.cuda.is_available() else \"cpu\")\n",
        "\n",
        "# Create model and training components\n",
        "model, criterion, optimizer, scheduler = create_model(device)\n",
        "\n",
        "test_loss, test_acc = train_epoch(\n",
        "    model, test_loader, criterion, optimizer, device, is_training=False\n",
        ")\n",
        "print(f\"Test Loss: {test_loss:.4f} - Test Acc: {test_acc:.2f}%\")"
      ],
      "metadata": {
        "colab": {
          "base_uri": "https://localhost:8080/"
        },
        "id": "AsVs6DVgb5d3",
        "outputId": "32bfb574-4428-4726-e15f-42886f7930e9"
      },
      "id": "AsVs6DVgb5d3",
      "execution_count": 28,
      "outputs": [
        {
          "output_type": "stream",
          "name": "stderr",
          "text": [
            "/usr/local/lib/python3.10/dist-packages/torch/optim/lr_scheduler.py:62: UserWarning: The verbose parameter is deprecated. Please use get_last_lr() to access the learning rate.\n",
            "  warnings.warn(\n"
          ]
        },
        {
          "output_type": "stream",
          "name": "stdout",
          "text": [
            "Test Loss: 2.3071 - Test Acc: 8.19%\n"
          ]
        }
      ]
    },
    {
      "cell_type": "code",
      "execution_count": 30,
      "id": "61fd0af9-6a7b-4c82-88d5-c99e9dcddd0b",
      "metadata": {
        "colab": {
          "base_uri": "https://localhost:8080/"
        },
        "id": "61fd0af9-6a7b-4c82-88d5-c99e9dcddd0b",
        "outputId": "308e233b-4dee-4811-f633-46effd068b17"
      },
      "outputs": [
        {
          "output_type": "stream",
          "name": "stderr",
          "text": [
            "/usr/local/lib/python3.10/dist-packages/torch/optim/lr_scheduler.py:62: UserWarning: The verbose parameter is deprecated. Please use get_last_lr() to access the learning rate.\n",
            "  warnings.warn(\n"
          ]
        },
        {
          "output_type": "stream",
          "name": "stdout",
          "text": [
            "Training started...\n",
            "\n",
            "Epoch 1/10 - Time: 14.55s\n",
            "Train Loss: 0.6352 - Train Acc: 77.48%\n",
            "Val Loss: 0.4926 - Val Acc: 82.20%\n",
            "Learning Rate: 0.010000\n",
            "------------------------------------------------------------\n",
            "Validation loss decreased (inf --> 0.492630). Saving model ...\n",
            "\n",
            "Epoch 2/10 - Time: 14.07s\n",
            "Train Loss: 0.5658 - Train Acc: 79.79%\n",
            "Val Loss: 0.4961 - Val Acc: 82.91%\n",
            "Learning Rate: 0.010000\n",
            "------------------------------------------------------------\n",
            "EarlyStopping counter: 1 out of 7\n",
            "\n",
            "Epoch 3/10 - Time: 15.45s\n",
            "Train Loss: 0.5532 - Train Acc: 80.72%\n",
            "Val Loss: 0.4659 - Val Acc: 83.13%\n",
            "Learning Rate: 0.010000\n",
            "------------------------------------------------------------\n",
            "Validation loss decreased (0.492630 --> 0.465947). Saving model ...\n",
            "\n",
            "Epoch 4/10 - Time: 14.30s\n",
            "Train Loss: 0.5414 - Train Acc: 81.09%\n",
            "Val Loss: 0.4707 - Val Acc: 82.64%\n",
            "Learning Rate: 0.010000\n",
            "------------------------------------------------------------\n",
            "EarlyStopping counter: 1 out of 7\n",
            "\n",
            "Epoch 5/10 - Time: 15.25s\n",
            "Train Loss: 0.5295 - Train Acc: 81.44%\n",
            "Val Loss: 0.4392 - Val Acc: 84.40%\n",
            "Learning Rate: 0.010000\n",
            "------------------------------------------------------------\n",
            "Validation loss decreased (0.465947 --> 0.439203). Saving model ...\n",
            "\n",
            "Epoch 6/10 - Time: 14.04s\n",
            "Train Loss: 0.5348 - Train Acc: 81.24%\n",
            "Val Loss: 0.4589 - Val Acc: 83.02%\n",
            "Learning Rate: 0.010000\n",
            "------------------------------------------------------------\n",
            "EarlyStopping counter: 1 out of 7\n",
            "\n",
            "Epoch 7/10 - Time: 14.29s\n",
            "Train Loss: 0.5244 - Train Acc: 81.63%\n",
            "Val Loss: 0.4606 - Val Acc: 83.19%\n",
            "Learning Rate: 0.010000\n",
            "------------------------------------------------------------\n",
            "EarlyStopping counter: 2 out of 7\n",
            "\n",
            "Epoch 8/10 - Time: 13.91s\n",
            "Train Loss: 0.5310 - Train Acc: 81.57%\n",
            "Val Loss: 0.5159 - Val Acc: 82.27%\n",
            "Learning Rate: 0.010000\n",
            "------------------------------------------------------------\n",
            "EarlyStopping counter: 3 out of 7\n",
            "\n",
            "Epoch 9/10 - Time: 14.82s\n",
            "Train Loss: 0.5232 - Train Acc: 81.70%\n",
            "Val Loss: 0.4533 - Val Acc: 83.72%\n",
            "Learning Rate: 0.010000\n",
            "------------------------------------------------------------\n",
            "EarlyStopping counter: 4 out of 7\n",
            "\n",
            "Epoch 10/10 - Time: 14.04s\n",
            "Train Loss: 0.5226 - Train Acc: 81.68%\n",
            "Val Loss: 0.4915 - Val Acc: 81.99%\n",
            "Learning Rate: 0.010000\n",
            "------------------------------------------------------------\n",
            "EarlyStopping counter: 5 out of 7\n",
            "\n",
            "Training completed in 144.85 seconds\n",
            "Best validation accuracy: 84.40%\n"
          ]
        }
      ],
      "source": [
        "# Create model and training components\n",
        "model, criterion, optimizer, scheduler = create_model(device)\n",
        "\n",
        "# Train the model\n",
        "history = train_model(\n",
        "    model=model,\n",
        "    train_loader=train_loader,\n",
        "    val_loader=val_loader,\n",
        "    criterion=criterion,\n",
        "    optimizer=optimizer,\n",
        "    num_epochs=10,\n",
        "    devicet=device\n",
        ")"
      ]
    },
    {
      "cell_type": "code",
      "execution_count": 34,
      "id": "88945c7a-70c4-4ab7-b381-4d0276f94e02",
      "metadata": {
        "id": "88945c7a-70c4-4ab7-b381-4d0276f94e02"
      },
      "outputs": [],
      "source": [
        "def plot_training_history(history):\n",
        "    \"\"\"\n",
        "    Plot training history\n",
        "\n",
        "    Parameters:\n",
        "    -----------\n",
        "    history : dict\n",
        "        Training history containing metrics\n",
        "    \"\"\"\n",
        "    fig, ((ax1, ax2), (ax3, ax4)) = plt.subplots(2, 2, figsize=(15, 10))\n",
        "\n",
        "    # Plot loss\n",
        "    ax1.plot(history['train_loss'], label='Train Loss')\n",
        "    ax1.plot(history['val_loss'], label='Val Loss')\n",
        "    ax1.set_xlabel('Epoch')\n",
        "    ax1.set_ylabel('Loss')\n",
        "    ax1.set_title('Training and Validation Loss')\n",
        "    ax1.legend()\n",
        "    ax1.grid(True)\n",
        "\n",
        "    # Plot accuracy\n",
        "    ax2.plot(history['train_acc'], label='Train Acc')\n",
        "    ax2.plot(history['val_acc'], label='Val Acc')\n",
        "    ax2.set_xlabel('Epoch')\n",
        "    ax2.set_ylabel('Accuracy (%)')\n",
        "    ax2.set_title('Training and Validation Accuracy')\n",
        "    ax2.legend()\n",
        "    ax2.grid(True)\n",
        "\n",
        "    # Plot learning rate\n",
        "    ax3.plot(history['lr'])\n",
        "    ax3.set_xlabel('Epoch')\n",
        "    ax3.set_ylabel('Learning Rate')\n",
        "    ax3.set_title('Learning Rate over Time')\n",
        "    ax3.set_yscale('log')\n",
        "    ax3.grid(True)\n",
        "\n",
        "    # Plot loss vs accuracy\n",
        "    ax4.scatter(history['train_loss'], history['train_acc'], label='Train')\n",
        "    ax4.scatter(history['val_loss'], history['val_acc'], label='Val')\n",
        "    ax4.set_xlabel('Loss')\n",
        "    ax4.set_ylabel('Accuracy (%)')\n",
        "    ax4.set_title('Loss vs Accuracy')\n",
        "    ax4.legend()\n",
        "    ax4.grid(True)\n",
        "\n",
        "    plt.tight_layout()\n",
        "    return fig"
      ]
    },
    {
      "cell_type": "code",
      "execution_count": 33,
      "id": "60fb283e-1f78-44fa-ae1e-221d9a973df5",
      "metadata": {
        "colab": {
          "base_uri": "https://localhost:8080/",
          "height": 1000
        },
        "id": "60fb283e-1f78-44fa-ae1e-221d9a973df5",
        "outputId": "70d6e3d6-e57f-4fc2-b535-c31dcb326a1e"
      },
      "outputs": [
        {
          "output_type": "error",
          "ename": "TypeError",
          "evalue": "cannot unpack non-iterable Axes object",
          "traceback": [
            "\u001b[0;31m---------------------------------------------------------------------------\u001b[0m",
            "\u001b[0;31mTypeError\u001b[0m                                 Traceback (most recent call last)",
            "\u001b[0;32m<ipython-input-33-0aa18f07edab>\u001b[0m in \u001b[0;36m<cell line: 2>\u001b[0;34m()\u001b[0m\n\u001b[1;32m      1\u001b[0m \u001b[0;31m# Plot training history\u001b[0m\u001b[0;34m\u001b[0m\u001b[0;34m\u001b[0m\u001b[0m\n\u001b[0;32m----> 2\u001b[0;31m \u001b[0mplot_training_history\u001b[0m\u001b[0;34m(\u001b[0m\u001b[0mhistory\u001b[0m\u001b[0;34m)\u001b[0m\u001b[0;34m\u001b[0m\u001b[0;34m\u001b[0m\u001b[0m\n\u001b[0m\u001b[1;32m      3\u001b[0m \u001b[0mplt\u001b[0m\u001b[0;34m.\u001b[0m\u001b[0mshow\u001b[0m\u001b[0;34m(\u001b[0m\u001b[0;34m)\u001b[0m\u001b[0;34m\u001b[0m\u001b[0;34m\u001b[0m\u001b[0m\n",
            "\u001b[0;32m<ipython-input-31-2145b86bdb73>\u001b[0m in \u001b[0;36mplot_training_history\u001b[0;34m(history)\u001b[0m\n\u001b[1;32m      8\u001b[0m         \u001b[0mTraining\u001b[0m \u001b[0mhistory\u001b[0m \u001b[0mcontaining\u001b[0m \u001b[0mmetrics\u001b[0m\u001b[0;34m\u001b[0m\u001b[0;34m\u001b[0m\u001b[0m\n\u001b[1;32m      9\u001b[0m     \"\"\"\n\u001b[0;32m---> 10\u001b[0;31m     \u001b[0mfig\u001b[0m\u001b[0;34m,\u001b[0m \u001b[0;34m(\u001b[0m\u001b[0;34m(\u001b[0m\u001b[0max1\u001b[0m\u001b[0;34m,\u001b[0m \u001b[0max2\u001b[0m\u001b[0;34m)\u001b[0m\u001b[0;34m,\u001b[0m \u001b[0;34m(\u001b[0m\u001b[0max3\u001b[0m\u001b[0;34m,\u001b[0m \u001b[0max4\u001b[0m\u001b[0;34m)\u001b[0m\u001b[0;34m)\u001b[0m \u001b[0;34m=\u001b[0m \u001b[0mplt\u001b[0m\u001b[0;34m.\u001b[0m\u001b[0msubplots\u001b[0m\u001b[0;34m(\u001b[0m\u001b[0;36m2\u001b[0m\u001b[0;34m,\u001b[0m \u001b[0;36m1\u001b[0m\u001b[0;34m,\u001b[0m \u001b[0mfigsize\u001b[0m\u001b[0;34m=\u001b[0m\u001b[0;34m(\u001b[0m\u001b[0;36m10\u001b[0m\u001b[0;34m,\u001b[0m \u001b[0;36m10\u001b[0m\u001b[0;34m)\u001b[0m\u001b[0;34m)\u001b[0m\u001b[0;34m\u001b[0m\u001b[0;34m\u001b[0m\u001b[0m\n\u001b[0m\u001b[1;32m     11\u001b[0m \u001b[0;34m\u001b[0m\u001b[0m\n\u001b[1;32m     12\u001b[0m     \u001b[0;31m# Plot loss\u001b[0m\u001b[0;34m\u001b[0m\u001b[0;34m\u001b[0m\u001b[0m\n",
            "\u001b[0;31mTypeError\u001b[0m: cannot unpack non-iterable Axes object"
          ]
        },
        {
          "output_type": "display_data",
          "data": {
            "text/plain": [
              "<Figure size 1000x1000 with 2 Axes>"
            ],
            "image/png": "[encoded data removed]"
          },
          "metadata": {}
        }
      ],
      "source": [
        "# Plot training history\n",
        "plot_training_history(history)\n",
        "plt.show()"
      ]
    },
    {
      "cell_type": "code",
      "execution_count": null,
      "id": "3658a73d-d0c1-41d7-b5c7-a9286f7a22d9",
      "metadata": {
        "id": "3658a73d-d0c1-41d7-b5c7-a9286f7a22d9"
      },
      "outputs": [],
      "source": [
        "### Improve your model and trainning"
      ]
    },
    {
      "cell_type": "code",
      "execution_count": null,
      "id": "b1d30af7-20a5-44e5-923b-0f320e395e50",
      "metadata": {
        "id": "b1d30af7-20a5-44e5-923b-0f320e395e50"
      },
      "outputs": [],
      "source": []
    },
    {
      "cell_type": "code",
      "execution_count": null,
      "id": "b25808b6-7552-4a0a-a6ff-fd83eaefdc88",
      "metadata": {
        "id": "b25808b6-7552-4a0a-a6ff-fd83eaefdc88"
      },
      "outputs": [],
      "source": []
    },
    {
      "cell_type": "code",
      "execution_count": null,
      "id": "1315d5dc-7d0f-44ad-95a1-88984834e94c",
      "metadata": {
        "id": "1315d5dc-7d0f-44ad-95a1-88984834e94c"
      },
      "outputs": [],
      "source": []
    },
    {
      "cell_type": "code",
      "execution_count": null,
      "id": "6c23cfab-39de-431a-94ea-57deadb74009",
      "metadata": {
        "id": "6c23cfab-39de-431a-94ea-57deadb74009"
      },
      "outputs": [],
      "source": []
    },
    {
      "cell_type": "code",
      "execution_count": null,
      "id": "a18c0246-c2a5-4b82-a007-86b057434b0a",
      "metadata": {
        "id": "a18c0246-c2a5-4b82-a007-86b057434b0a"
      },
      "outputs": [],
      "source": []
    },
    {
      "cell_type": "markdown",
      "id": "1e6c1adf-074b-47bf-af5a-e3f0a00e1591",
      "metadata": {
        "id": "1e6c1adf-074b-47bf-af5a-e3f0a00e1591"
      },
      "source": [
        "### Generating Submission File"
      ]
    },
    {
      "cell_type": "code",
      "execution_count": 35,
      "id": "c9581f59-2189-42cf-a69f-0d174b2fe7a5",
      "metadata": {
        "id": "c9581f59-2189-42cf-a69f-0d174b2fe7a5"
      },
      "outputs": [],
      "source": [
        "X_test = pd.read_csv('module7_exercise_test_features.csv')\n",
        "X_test_tensor = torch.tensor(X_test.values, dtype=torch.float32)"
      ]
    },
    {
      "cell_type": "code",
      "execution_count": 36,
      "id": "bb94bdc9-045d-44f5-a425-2a0623d0e994",
      "metadata": {
        "id": "bb94bdc9-045d-44f5-a425-2a0623d0e994"
      },
      "outputs": [],
      "source": [
        "model.eval()  # Set the model to evaluation mode\n",
        "with torch.no_grad():\n",
        "    predictions = model(X_test_tensor)"
      ]
    },
    {
      "cell_type": "code",
      "execution_count": 37,
      "id": "ed9d9fa3-16fc-4a77-8b31-a1e1eb196166",
      "metadata": {
        "id": "ed9d9fa3-16fc-4a77-8b31-a1e1eb196166"
      },
      "outputs": [],
      "source": [
        "_, predicted_labels = torch.max(predictions, dim=1)"
      ]
    },
    {
      "cell_type": "code",
      "execution_count": 38,
      "id": "8f1a3d3e-de05-47f1-8984-1b6f0732f2de",
      "metadata": {
        "colab": {
          "base_uri": "https://localhost:8080/",
          "height": 206
        },
        "id": "8f1a3d3e-de05-47f1-8984-1b6f0732f2de",
        "outputId": "36472bae-0b75-4729-cb04-86568c2e521f"
      },
      "outputs": [
        {
          "output_type": "execute_result",
          "data": {
            "text/plain": [
              "   index  label\n",
              "0      0      0\n",
              "1      1      0\n",
              "2      2      0\n",
              "3      3      0\n",
              "4      4      0"
            ],
            "text/html": [
              "\n",
              "  <div id=\"df-d19af7b6-6b10-4bd2-8bcd-adea2e6cad6b\" class=\"colab-df-container\">\n",
              "    <div>\n",
              "<style scoped>\n",
              "    .dataframe tbody tr th:only-of-type {\n",
              "        vertical-align: middle;\n",
              "    }\n",
              "\n",
              "    .dataframe tbody tr th {\n",
              "        vertical-align: top;\n",
              "    }\n",
              "\n",
              "    .dataframe thead th {\n",
              "        text-align: right;\n",
              "    }\n",
              "</style>\n",
              "<table border=\"1\" class=\"dataframe\">\n",
              "  <thead>\n",
              "    <tr style=\"text-align: right;\">\n",
              "      <th></th>\n",
              "      <th>index</th>\n",
              "      <th>label</th>\n",
              "    </tr>\n",
              "  </thead>\n",
              "  <tbody>\n",
              "    <tr>\n",
              "      <th>0</th>\n",
              "      <td>0</td>\n",
              "      <td>0</td>\n",
              "    </tr>\n",
              "    <tr>\n",
              "      <th>1</th>\n",
              "      <td>1</td>\n",
              "      <td>0</td>\n",
              "    </tr>\n",
              "    <tr>\n",
              "      <th>2</th>\n",
              "      <td>2</td>\n",
              "      <td>0</td>\n",
              "    </tr>\n",
              "    <tr>\n",
              "      <th>3</th>\n",
              "      <td>3</td>\n",
              "      <td>0</td>\n",
              "    </tr>\n",
              "    <tr>\n",
              "      <th>4</th>\n",
              "      <td>4</td>\n",
              "      <td>0</td>\n",
              "    </tr>\n",
              "  </tbody>\n",
              "</table>\n",
              "</div>\n",
              "    <div class=\"colab-df-buttons\">\n",
              "\n",
              "  <div class=\"colab-df-container\">\n",
              "    <button class=\"colab-df-convert\" onclick=\"convertToInteractive('df-d19af7b6-6b10-4bd2-8bcd-adea2e6cad6b')\"\n",
              "            title=\"Convert this dataframe to an interactive table.\"\n",
              "            style=\"display:none;\">\n",
              "\n",
              "  <svg xmlns=\"http://www.w3.org/2000/svg\" height=\"24px\" viewBox=\"0 -960 960 960\">\n",
              "    <path d=\"M120-120v-720h720v720H120Zm60-500h600v-160H180v160Zm220 220h160v-160H400v160Zm0 220h160v-160H400v160ZM180-400h160v-160H180v160Zm440 0h160v-160H620v160ZM180-180h160v-160H180v160Zm440 0h160v-160H620v160Z\"/>\n",
              "  </svg>\n",
              "    </button>\n",
              "\n",
              "  <style>\n",
              "    .colab-df-container {\n",
              "      display:flex;\n",
              "      gap: 12px;\n",
              "    }\n",
              "\n",
              "    .colab-df-convert {\n",
              "      background-color: #E8F0FE;\n",
              "      border: none;\n",
              "      border-radius: 50%;\n",
              "      cursor: pointer;\n",
              "      display: none;\n",
              "      fill: #1967D2;\n",
              "      height: 32px;\n",
              "      padding: 0 0 0 0;\n",
              "      width: 32px;\n",
              "    }\n",
              "\n",
              "    .colab-df-convert:hover {\n",
              "      background-color: #E2EBFA;\n",
              "      box-shadow: 0px 1px 2px rgba(60, 64, 67, 0.3), 0px 1px 3px 1px rgba(60, 64, 67, 0.15);\n",
              "      fill: #174EA6;\n",
              "    }\n",
              "\n",
              "    .colab-df-buttons div {\n",
              "      margin-bottom: 4px;\n",
              "    }\n",
              "\n",
              "    [theme=dark] .colab-df-convert {\n",
              "      background-color: #3B4455;\n",
              "      fill: #D2E3FC;\n",
              "    }\n",
              "\n",
              "    [theme=dark] .colab-df-convert:hover {\n",
              "      background-color: #434B5C;\n",
              "      box-shadow: 0px 1px 3px 1px rgba(0, 0, 0, 0.15);\n",
              "      filter: drop-shadow(0px 1px 2px rgba(0, 0, 0, 0.3));\n",
              "      fill: #FFFFFF;\n",
              "    }\n",
              "  </style>\n",
              "\n",
              "    <script>\n",
              "      const buttonEl =\n",
              "        document.querySelector('#df-d19af7b6-6b10-4bd2-8bcd-adea2e6cad6b button.colab-df-convert');\n",
              "      buttonEl.style.display =\n",
              "        google.colab.kernel.accessAllowed ? 'block' : 'none';\n",
              "\n",
              "      async function convertToInteractive(key) {\n",
              "        const element = document.querySelector('#df-d19af7b6-6b10-4bd2-8bcd-adea2e6cad6b');\n",
              "        const dataTable =\n",
              "          await google.colab.kernel.invokeFunction('convertToInteractive',\n",
              "                                                    [key], {});\n",
              "        if (!dataTable) return;\n",
              "\n",
              "        const docLinkHtml = 'Like what you see? Visit the ' +\n",
              "          '<a target=\"_blank\" href=https://colab.research.google.com/notebooks/data_table.ipynb>data table notebook</a>'\n",
              "          + ' to learn more about interactive tables.';\n",
              "        element.innerHTML = '';\n",
              "        dataTable['output_type'] = 'display_data';\n",
              "        await google.colab.output.renderOutput(dataTable, element);\n",
              "        const docLink = document.createElement('div');\n",
              "        docLink.innerHTML = docLinkHtml;\n",
              "        element.appendChild(docLink);\n",
              "      }\n",
              "    </script>\n",
              "  </div>\n",
              "\n",
              "\n",
              "<div id=\"df-5fe089e9-d654-41c4-a848-b5e726822d30\">\n",
              "  <button class=\"colab-df-quickchart\" onclick=\"quickchart('df-5fe089e9-d654-41c4-a848-b5e726822d30')\"\n",
              "            title=\"Suggest charts\"\n",
              "            style=\"display:none;\">\n",
              "\n",
              "<svg xmlns=\"http://www.w3.org/2000/svg\" height=\"24px\"viewBox=\"0 0 24 24\"\n",
              "     width=\"24px\">\n",
              "    <g>\n",
              "        <path d=\"M19 3H5c-1.1 0-2 .9-2 2v14c0 1.1.9 2 2 2h14c1.1 0 2-.9 2-2V5c0-1.1-.9-2-2-2zM9 17H7v-7h2v7zm4 0h-2V7h2v10zm4 0h-2v-4h2v4z\"/>\n",
              "    </g>\n",
              "</svg>\n",
              "  </button>\n",
              "\n",
              "<style>\n",
              "  .colab-df-quickchart {\n",
              "      --bg-color: #E8F0FE;\n",
              "      --fill-color: #1967D2;\n",
              "      --hover-bg-color: #E2EBFA;\n",
              "      --hover-fill-color: #174EA6;\n",
              "      --disabled-fill-color: #AAA;\n",
              "      --disabled-bg-color: #DDD;\n",
              "  }\n",
              "\n",
              "  [theme=dark] .colab-df-quickchart {\n",
              "      --bg-color: #3B4455;\n",
              "      --fill-color: #D2E3FC;\n",
              "      --hover-bg-color: #434B5C;\n",
              "      --hover-fill-color: #FFFFFF;\n",
              "      --disabled-bg-color: #3B4455;\n",
              "      --disabled-fill-color: #666;\n",
              "  }\n",
              "\n",
              "  .colab-df-quickchart {\n",
              "    background-color: var(--bg-color);\n",
              "    border: none;\n",
              "    border-radius: 50%;\n",
              "    cursor: pointer;\n",
              "    display: none;\n",
              "    fill: var(--fill-color);\n",
              "    height: 32px;\n",
              "    padding: 0;\n",
              "    width: 32px;\n",
              "  }\n",
              "\n",
              "  .colab-df-quickchart:hover {\n",
              "    background-color: var(--hover-bg-color);\n",
              "    box-shadow: 0 1px 2px rgba(60, 64, 67, 0.3), 0 1px 3px 1px rgba(60, 64, 67, 0.15);\n",
              "    fill: var(--button-hover-fill-color);\n",
              "  }\n",
              "\n",
              "  .colab-df-quickchart-complete:disabled,\n",
              "  .colab-df-quickchart-complete:disabled:hover {\n",
              "    background-color: var(--disabled-bg-color);\n",
              "    fill: var(--disabled-fill-color);\n",
              "    box-shadow: none;\n",
              "  }\n",
              "\n",
              "  .colab-df-spinner {\n",
              "    border: 2px solid var(--fill-color);\n",
              "    border-color: transparent;\n",
              "    border-bottom-color: var(--fill-color);\n",
              "    animation:\n",
              "      spin 1s steps(1) infinite;\n",
              "  }\n",
              "\n",
              "  @keyframes spin {\n",
              "    0% {\n",
              "      border-color: transparent;\n",
              "      border-bottom-color: var(--fill-color);\n",
              "      border-left-color: var(--fill-color);\n",
              "    }\n",
              "    20% {\n",
              "      border-color: transparent;\n",
              "      border-left-color: var(--fill-color);\n",
              "      border-top-color: var(--fill-color);\n",
              "    }\n",
              "    30% {\n",
              "      border-color: transparent;\n",
              "      border-left-color: var(--fill-color);\n",
              "      border-top-color: var(--fill-color);\n",
              "      border-right-color: var(--fill-color);\n",
              "    }\n",
              "    40% {\n",
              "      border-color: transparent;\n",
              "      border-right-color: var(--fill-color);\n",
              "      border-top-color: var(--fill-color);\n",
              "    }\n",
              "    60% {\n",
              "      border-color: transparent;\n",
              "      border-right-color: var(--fill-color);\n",
              "    }\n",
              "    80% {\n",
              "      border-color: transparent;\n",
              "      border-right-color: var(--fill-color);\n",
              "      border-bottom-color: var(--fill-color);\n",
              "    }\n",
              "    90% {\n",
              "      border-color: transparent;\n",
              "      border-bottom-color: var(--fill-color);\n",
              "    }\n",
              "  }\n",
              "</style>\n",
              "\n",
              "  <script>\n",
              "    async function quickchart(key) {\n",
              "      const quickchartButtonEl =\n",
              "        document.querySelector('#' + key + ' button');\n",
              "      quickchartButtonEl.disabled = true;  // To prevent multiple clicks.\n",
              "      quickchartButtonEl.classList.add('colab-df-spinner');\n",
              "      try {\n",
              "        const charts = await google.colab.kernel.invokeFunction(\n",
              "            'suggestCharts', [key], {});\n",
              "      } catch (error) {\n",
              "        console.error('Error during call to suggestCharts:', error);\n",
              "      }\n",
              "      quickchartButtonEl.classList.remove('colab-df-spinner');\n",
              "      quickchartButtonEl.classList.add('colab-df-quickchart-complete');\n",
              "    }\n",
              "    (() => {\n",
              "      let quickchartButtonEl =\n",
              "        document.querySelector('#df-5fe089e9-d654-41c4-a848-b5e726822d30 button');\n",
              "      quickchartButtonEl.style.display =\n",
              "        google.colab.kernel.accessAllowed ? 'block' : 'none';\n",
              "    })();\n",
              "  </script>\n",
              "</div>\n",
              "\n",
              "    </div>\n",
              "  </div>\n"
            ],
            "application/vnd.google.colaboratory.intrinsic+json": {
              "type": "dataframe",
              "variable_name": "submission",
              "summary": "{\n  \"name\": \"submission\",\n  \"rows\": 10000,\n  \"fields\": [\n    {\n      \"column\": \"index\",\n      \"properties\": {\n        \"dtype\": \"number\",\n        \"std\": 2886,\n        \"min\": 0,\n        \"max\": 9999,\n        \"num_unique_values\": 10000,\n        \"samples\": [\n          6252,\n          4684,\n          1731\n        ],\n        \"semantic_type\": \"\",\n        \"description\": \"\"\n      }\n    },\n    {\n      \"column\": \"label\",\n      \"properties\": {\n        \"dtype\": \"number\",\n        \"std\": 0,\n        \"min\": 0,\n        \"max\": 0,\n        \"num_unique_values\": 1,\n        \"samples\": [\n          0\n        ],\n        \"semantic_type\": \"\",\n        \"description\": \"\"\n      }\n    }\n  ]\n}"
            }
          },
          "metadata": {},
          "execution_count": 38
        }
      ],
      "source": [
        "submission = pd.DataFrame({\n",
        "    'index': X_test.index,\n",
        "    'label': 0 # predicted_labels\n",
        "})\n",
        "\n",
        "submission.to_csv('submission.csv', index=False, sep=',')\n",
        "submission.head()"
      ]
    }
  ],
  "metadata": {
    "kernelspec": {
      "display_name": "Python 3 (ipykernel)",
      "language": "python",
      "name": "python3"
    },
    "language_info": {
      "codemirror_mode": {
        "name": "ipython",
        "version": 3
      },
      "file_extension": ".py",
      "mimetype": "text/x-python",
      "name": "python",
      "nbconvert_exporter": "python",
      "pygments_lexer": "ipython3",
      "version": "3.12.3"
    },
    "colab": {
      "provenance": []
    }
  },
  "nbformat": 4,
  "nbformat_minor": 5
}