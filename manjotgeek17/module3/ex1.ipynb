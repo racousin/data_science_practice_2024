{
 "cells": [
  {
   "cell_type": "code",
   "execution_count": 1,
   "id": "32854d75-093f-46c0-8b84-1fe9c6c1bfa5",
   "metadata": {},
   "outputs": [],
   "source": [
    "import pandas as pd"
   ]
  },
  {
   "cell_type": "markdown",
   "id": "623f9a8c-e5e1-46a7-9dd1-1ef0e9cec868",
   "metadata": {},
   "source": [
    "### Data Collection"
   ]
  },
  {
   "cell_type": "code",
   "execution_count": 2,
   "id": "cac2bf4b-cce6-4f01-a906-21c6b83ee515",
   "metadata": {},
   "outputs": [
    {
     "ename": "ModuleNotFoundError",
     "evalue": "No module named 'requests'",
     "output_type": "error",
     "traceback": [
      "\u001b[1;31m---------------------------------------------------------------------------\u001b[0m",
      "\u001b[1;31mModuleNotFoundError\u001b[0m                       Traceback (most recent call last)",
      "Cell \u001b[1;32mIn[2], line 1\u001b[0m\n\u001b[1;32m----> 1\u001b[0m \u001b[38;5;28;01mimport\u001b[39;00m \u001b[38;5;21;01mrequests\u001b[39;00m\n\u001b[0;32m      3\u001b[0m \u001b[38;5;66;03m# URLs of the files\u001b[39;00m\n\u001b[0;32m      4\u001b[0m train_data_url \u001b[38;5;241m=\u001b[39m \u001b[38;5;124m'\u001b[39m\u001b[38;5;124mhttps://www.raphaelcousin.com/modules/module3/exercise/module3_exercise_train.csv\u001b[39m\u001b[38;5;124m'\u001b[39m\n",
      "\u001b[1;31mModuleNotFoundError\u001b[0m: No module named 'requests'"
     ]
    }
   ],
   "source": [
    "import requests\n",
    "\n",
    "# URLs of the files\n",
    "train_data_url = 'https://www.raphaelcousin.com/modules/module3/exercise/module3_exercise_train.csv'\n",
    "test_data_url = 'https://www.raphaelcousin.com/modules/module3/exercise/module3_exercise_test.csv'\n",
    "\n",
    "# Function to download a file\n",
    "def download_file(url, file_name):\n",
    "    response = requests.get(url)\n",
    "    response.raise_for_status()  # Ensure we notice bad responses\n",
    "    with open(file_name, 'wb') as file:\n",
    "        file.write(response.content)\n",
    "    print(f'Downloaded {file_name} from {url}')\n",
    "\n",
    "# Downloading the files\n",
    "download_file(train_data_url, 'module3_exercise_train.csv')\n",
    "download_file(test_data_url, 'module3_exercise_test.csv')"
   ]
  },
  {
   "cell_type": "code",
   "execution_count": null,
   "id": "923f12cb-09c7-4952-b9d3-faf1ff9ada52",
   "metadata": {},
   "outputs": [],
   "source": [
    "df_train =  pd.read_csv(\"module3_exercise_train.csv\", sep=\",\", index_col='id')"
   ]
  },
  {
   "cell_type": "markdown",
   "id": "24460d16-e65e-4277-ae63-3c2ec1343f9e",
   "metadata": {},
   "source": [
    "### Data Preprocessing"
   ]
  },
  {
   "cell_type": "code",
   "execution_count": null,
   "id": "0a6af522-206c-4778-abea-38b612bf5190",
   "metadata": {},
   "outputs": [],
   "source": [
    "text_to_int = {\n",
    "    'one': 1,\n",
    "    'two': 2,\n",
    "    'three': 3,\n",
    "}\n",
    "\n",
    "def minimal_data_prep(data_df):\n",
    "    data_df['GarageCars'] = data_df['GarageCars'].map(text_to_int)\n",
    "    data_df = data_df.fillna(data_df.mean())\n",
    "    return data_df\n",
    "\n",
    "df_train = minimal_data_prep(df_train)\n",
    "df_train.head()"
   ]
  },
  {
   "cell_type": "code",
   "execution_count": null,
   "id": "88ef1611",
   "metadata": {},
   "outputs": [],
   "source": []
  },
  {
   "cell_type": "markdown",
   "id": "955e62d0-5a9d-498e-ba9d-7d08cd009499",
   "metadata": {},
   "source": [
    "### Model Building and Evaluation"
   ]
  },
  {
   "cell_type": "code",
   "execution_count": 1,
   "id": "2240b9be-2019-40a9-a30b-e9f2bf676e90",
   "metadata": {},
   "outputs": [],
   "source": [
    "from sklearn.ensemble import RandomForestRegressor\n",
    "from sklearn.metrics import mean_absolute_error"
   ]
  },
  {
   "cell_type": "code",
   "execution_count": null,
   "id": "5abcc4ca",
   "metadata": {},
   "outputs": [],
   "source": [
    "X_train = df_train.drop('SalePrice', axis=1, inplace=False)\n",
    "y_train = df_train['SalePrice']\n",
    "X_train.head()"
   ]
  },
  {
   "cell_type": "code",
   "execution_count": null,
   "id": "02a232e3",
   "metadata": {},
   "outputs": [],
   "source": [
    "model = RandomForestRegressor()\n",
    "model.fit(X_train, y_train)"
   ]
  },
  {
   "cell_type": "code",
   "execution_count": null,
   "id": "67ad4029",
   "metadata": {},
   "outputs": [],
   "source": [
    "def pred_eval(model, X_data, y_target):\n",
    "    y_pred = model.predict(X_data)\n",
    "    mae = mean_absolute_error(y_pred,y_target)\n",
    "    print(\"Mean Absolute Error :\",mae)\n",
    "    return y_pred"
   ]
  },
  {
   "cell_type": "code",
   "execution_count": null,
   "id": "93044896",
   "metadata": {},
   "outputs": [],
   "source": [
    "# Evaluation sur les données d'entraînement\n",
    "y_pred = pred_eval(model,X_train,y_train)"
   ]
  },
  {
   "cell_type": "markdown",
   "id": "20cee3d0-2b7f-45e7-bb94-b92c9e78158f",
   "metadata": {},
   "source": [
    "### Generating Submission File"
   ]
  },
  {
   "cell_type": "code",
   "execution_count": null,
   "id": "be18f935-290d-4788-bbea-d67717ed3bd6",
   "metadata": {},
   "outputs": [],
   "source": [
    "X_test =  pd.read_csv(\"module3_exercise_test.csv\", sep=\",\", index_col='id')\n",
    "X_test = minimal_data_prep(X_test)\n",
    "X_test.head()"
   ]
  },
  {
   "cell_type": "code",
   "execution_count": null,
   "id": "086823a3",
   "metadata": {},
   "outputs": [],
   "source": [
    "# Evaluation sur les données de test\n",
    "y_pred_test = model.predict(X_test)"
   ]
  },
  {
   "cell_type": "code",
   "execution_count": null,
   "id": "0bf5c300-75db-4834-ae40-3c39480e370f",
   "metadata": {},
   "outputs": [],
   "source": [
    "submission = pd.DataFrame({\n",
    "    'id': X_test.index,\n",
    "    'SalePrice': 0 # your_prediction\n",
    "})\n",
    "\n",
    "submission.to_csv('submission.csv', index=False, sep=',')\n",
    "submission.head()"
   ]
  }
 ],
 "metadata": {
  "kernelspec": {
   "display_name": "Python 3",
   "language": "python",
   "name": "python3"
  },
  "language_info": {
   "codemirror_mode": {
    "name": "ipython",
    "version": 3
   },
   "file_extension": ".py",
   "mimetype": "text/x-python",
   "name": "python",
   "nbconvert_exporter": "python",
   "pygments_lexer": "ipython3",
   "version": "3.12.2"
  }
 },
 "nbformat": 4,
 "nbformat_minor": 5
}
